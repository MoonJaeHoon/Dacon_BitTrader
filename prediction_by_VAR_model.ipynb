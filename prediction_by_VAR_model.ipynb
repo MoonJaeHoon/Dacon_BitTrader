{
  "nbformat": 4,
  "nbformat_minor": 0,
  "metadata": {
    "colab": {
      "name": "prediction_by_VAR model.ipynb",
      "provenance": [],
      "collapsed_sections": [],
      "toc_visible": true,
      "machine_shape": "hm"
    },
    "kernelspec": {
      "display_name": "Python 3",
      "name": "python3"
    },
    "widgets": {
      "application/vnd.jupyter.widget-state+json": {
        "f9a434b6adaf4321ba478dfa3c317e6b": {
          "model_module": "@jupyter-widgets/controls",
          "model_name": "HBoxModel",
          "state": {
            "_view_name": "HBoxView",
            "_dom_classes": [],
            "_model_name": "HBoxModel",
            "_view_module": "@jupyter-widgets/controls",
            "_model_module_version": "1.5.0",
            "_view_count": null,
            "_view_module_version": "1.5.0",
            "box_style": "",
            "layout": "IPY_MODEL_9a2e1b9f47b743c393020331aefe6563",
            "_model_module": "@jupyter-widgets/controls",
            "children": [
              "IPY_MODEL_e91cddacf4134b95954c08ada6c421e2",
              "IPY_MODEL_ca7db2e03e8441b2b5e02725894da177"
            ]
          }
        },
        "9a2e1b9f47b743c393020331aefe6563": {
          "model_module": "@jupyter-widgets/base",
          "model_name": "LayoutModel",
          "state": {
            "_view_name": "LayoutView",
            "grid_template_rows": null,
            "right": null,
            "justify_content": null,
            "_view_module": "@jupyter-widgets/base",
            "overflow": null,
            "_model_module_version": "1.2.0",
            "_view_count": null,
            "flex_flow": null,
            "width": null,
            "min_width": null,
            "border": null,
            "align_items": null,
            "bottom": null,
            "_model_module": "@jupyter-widgets/base",
            "top": null,
            "grid_column": null,
            "overflow_y": null,
            "overflow_x": null,
            "grid_auto_flow": null,
            "grid_area": null,
            "grid_template_columns": null,
            "flex": null,
            "_model_name": "LayoutModel",
            "justify_items": null,
            "grid_row": null,
            "max_height": null,
            "align_content": null,
            "visibility": null,
            "align_self": null,
            "height": null,
            "min_height": null,
            "padding": null,
            "grid_auto_rows": null,
            "grid_gap": null,
            "max_width": null,
            "order": null,
            "_view_module_version": "1.2.0",
            "grid_template_areas": null,
            "object_position": null,
            "object_fit": null,
            "grid_auto_columns": null,
            "margin": null,
            "display": null,
            "left": null
          }
        },
        "e91cddacf4134b95954c08ada6c421e2": {
          "model_module": "@jupyter-widgets/controls",
          "model_name": "FloatProgressModel",
          "state": {
            "_view_name": "ProgressView",
            "style": "IPY_MODEL_6f125946ed0c44eb8b073683b724fa89",
            "_dom_classes": [],
            "description": "100%",
            "_model_name": "FloatProgressModel",
            "bar_style": "success",
            "max": 10,
            "_view_module": "@jupyter-widgets/controls",
            "_model_module_version": "1.5.0",
            "value": 10,
            "_view_count": null,
            "_view_module_version": "1.5.0",
            "orientation": "horizontal",
            "min": 0,
            "description_tooltip": null,
            "_model_module": "@jupyter-widgets/controls",
            "layout": "IPY_MODEL_4c247dd93e0748bfa1a39ccdeb6cbdc6"
          }
        },
        "ca7db2e03e8441b2b5e02725894da177": {
          "model_module": "@jupyter-widgets/controls",
          "model_name": "HTMLModel",
          "state": {
            "_view_name": "HTMLView",
            "style": "IPY_MODEL_512702a2767c467f9cf0b5ad98bdeeb9",
            "_dom_classes": [],
            "description": "",
            "_model_name": "HTMLModel",
            "placeholder": "​",
            "_view_module": "@jupyter-widgets/controls",
            "_model_module_version": "1.5.0",
            "value": " 10/10 [10:48:04&lt;00:00, 3888.47s/it]",
            "_view_count": null,
            "_view_module_version": "1.5.0",
            "description_tooltip": null,
            "_model_module": "@jupyter-widgets/controls",
            "layout": "IPY_MODEL_acc3ed4c72e042739c773e560cfdcd94"
          }
        },
        "6f125946ed0c44eb8b073683b724fa89": {
          "model_module": "@jupyter-widgets/controls",
          "model_name": "ProgressStyleModel",
          "state": {
            "_view_name": "StyleView",
            "_model_name": "ProgressStyleModel",
            "description_width": "initial",
            "_view_module": "@jupyter-widgets/base",
            "_model_module_version": "1.5.0",
            "_view_count": null,
            "_view_module_version": "1.2.0",
            "bar_color": null,
            "_model_module": "@jupyter-widgets/controls"
          }
        },
        "4c247dd93e0748bfa1a39ccdeb6cbdc6": {
          "model_module": "@jupyter-widgets/base",
          "model_name": "LayoutModel",
          "state": {
            "_view_name": "LayoutView",
            "grid_template_rows": null,
            "right": null,
            "justify_content": null,
            "_view_module": "@jupyter-widgets/base",
            "overflow": null,
            "_model_module_version": "1.2.0",
            "_view_count": null,
            "flex_flow": null,
            "width": null,
            "min_width": null,
            "border": null,
            "align_items": null,
            "bottom": null,
            "_model_module": "@jupyter-widgets/base",
            "top": null,
            "grid_column": null,
            "overflow_y": null,
            "overflow_x": null,
            "grid_auto_flow": null,
            "grid_area": null,
            "grid_template_columns": null,
            "flex": null,
            "_model_name": "LayoutModel",
            "justify_items": null,
            "grid_row": null,
            "max_height": null,
            "align_content": null,
            "visibility": null,
            "align_self": null,
            "height": null,
            "min_height": null,
            "padding": null,
            "grid_auto_rows": null,
            "grid_gap": null,
            "max_width": null,
            "order": null,
            "_view_module_version": "1.2.0",
            "grid_template_areas": null,
            "object_position": null,
            "object_fit": null,
            "grid_auto_columns": null,
            "margin": null,
            "display": null,
            "left": null
          }
        },
        "512702a2767c467f9cf0b5ad98bdeeb9": {
          "model_module": "@jupyter-widgets/controls",
          "model_name": "DescriptionStyleModel",
          "state": {
            "_view_name": "StyleView",
            "_model_name": "DescriptionStyleModel",
            "description_width": "",
            "_view_module": "@jupyter-widgets/base",
            "_model_module_version": "1.5.0",
            "_view_count": null,
            "_view_module_version": "1.2.0",
            "_model_module": "@jupyter-widgets/controls"
          }
        },
        "acc3ed4c72e042739c773e560cfdcd94": {
          "model_module": "@jupyter-widgets/base",
          "model_name": "LayoutModel",
          "state": {
            "_view_name": "LayoutView",
            "grid_template_rows": null,
            "right": null,
            "justify_content": null,
            "_view_module": "@jupyter-widgets/base",
            "overflow": null,
            "_model_module_version": "1.2.0",
            "_view_count": null,
            "flex_flow": null,
            "width": null,
            "min_width": null,
            "border": null,
            "align_items": null,
            "bottom": null,
            "_model_module": "@jupyter-widgets/base",
            "top": null,
            "grid_column": null,
            "overflow_y": null,
            "overflow_x": null,
            "grid_auto_flow": null,
            "grid_area": null,
            "grid_template_columns": null,
            "flex": null,
            "_model_name": "LayoutModel",
            "justify_items": null,
            "grid_row": null,
            "max_height": null,
            "align_content": null,
            "visibility": null,
            "align_self": null,
            "height": null,
            "min_height": null,
            "padding": null,
            "grid_auto_rows": null,
            "grid_gap": null,
            "max_width": null,
            "order": null,
            "_view_module_version": "1.2.0",
            "grid_template_areas": null,
            "object_position": null,
            "object_fit": null,
            "grid_auto_columns": null,
            "margin": null,
            "display": null,
            "left": null
          }
        },
        "6d6c915d77304d36b56dc98bc4afd6a9": {
          "model_module": "@jupyter-widgets/controls",
          "model_name": "HBoxModel",
          "state": {
            "_view_name": "HBoxView",
            "_dom_classes": [],
            "_model_name": "HBoxModel",
            "_view_module": "@jupyter-widgets/controls",
            "_model_module_version": "1.5.0",
            "_view_count": null,
            "_view_module_version": "1.5.0",
            "box_style": "",
            "layout": "IPY_MODEL_28623939137248528dc1dca2fb9aab3d",
            "_model_module": "@jupyter-widgets/controls",
            "children": [
              "IPY_MODEL_5c202274e4fb4b598f6d274f16cb1d3e",
              "IPY_MODEL_3e4f864b94b449e0bc1edacefda3c0bb"
            ]
          }
        },
        "28623939137248528dc1dca2fb9aab3d": {
          "model_module": "@jupyter-widgets/base",
          "model_name": "LayoutModel",
          "state": {
            "_view_name": "LayoutView",
            "grid_template_rows": null,
            "right": null,
            "justify_content": null,
            "_view_module": "@jupyter-widgets/base",
            "overflow": null,
            "_model_module_version": "1.2.0",
            "_view_count": null,
            "flex_flow": null,
            "width": null,
            "min_width": null,
            "border": null,
            "align_items": null,
            "bottom": null,
            "_model_module": "@jupyter-widgets/base",
            "top": null,
            "grid_column": null,
            "overflow_y": null,
            "overflow_x": null,
            "grid_auto_flow": null,
            "grid_area": null,
            "grid_template_columns": null,
            "flex": null,
            "_model_name": "LayoutModel",
            "justify_items": null,
            "grid_row": null,
            "max_height": null,
            "align_content": null,
            "visibility": null,
            "align_self": null,
            "height": null,
            "min_height": null,
            "padding": null,
            "grid_auto_rows": null,
            "grid_gap": null,
            "max_width": null,
            "order": null,
            "_view_module_version": "1.2.0",
            "grid_template_areas": null,
            "object_position": null,
            "object_fit": null,
            "grid_auto_columns": null,
            "margin": null,
            "display": null,
            "left": null
          }
        },
        "5c202274e4fb4b598f6d274f16cb1d3e": {
          "model_module": "@jupyter-widgets/controls",
          "model_name": "FloatProgressModel",
          "state": {
            "_view_name": "ProgressView",
            "style": "IPY_MODEL_e7e74b6701d843598c93d7313fd55354",
            "_dom_classes": [],
            "description": "100%",
            "_model_name": "FloatProgressModel",
            "bar_style": "success",
            "max": 907,
            "_view_module": "@jupyter-widgets/controls",
            "_model_module_version": "1.5.0",
            "value": 907,
            "_view_count": null,
            "_view_module_version": "1.5.0",
            "orientation": "horizontal",
            "min": 0,
            "description_tooltip": null,
            "_model_module": "@jupyter-widgets/controls",
            "layout": "IPY_MODEL_a9904ae11ecd4ac08b6670f736891731"
          }
        },
        "3e4f864b94b449e0bc1edacefda3c0bb": {
          "model_module": "@jupyter-widgets/controls",
          "model_name": "HTMLModel",
          "state": {
            "_view_name": "HTMLView",
            "style": "IPY_MODEL_01c11deb257a4f5fb584130ca6cd1c33",
            "_dom_classes": [],
            "description": "",
            "_model_name": "HTMLModel",
            "placeholder": "​",
            "_view_module": "@jupyter-widgets/controls",
            "_model_module_version": "1.5.0",
            "value": " 907/907 [1:49:43&lt;00:00,  7.26s/it]",
            "_view_count": null,
            "_view_module_version": "1.5.0",
            "description_tooltip": null,
            "_model_module": "@jupyter-widgets/controls",
            "layout": "IPY_MODEL_0176305a999348a4b79f75367cbb4f14"
          }
        },
        "e7e74b6701d843598c93d7313fd55354": {
          "model_module": "@jupyter-widgets/controls",
          "model_name": "ProgressStyleModel",
          "state": {
            "_view_name": "StyleView",
            "_model_name": "ProgressStyleModel",
            "description_width": "initial",
            "_view_module": "@jupyter-widgets/base",
            "_model_module_version": "1.5.0",
            "_view_count": null,
            "_view_module_version": "1.2.0",
            "bar_color": null,
            "_model_module": "@jupyter-widgets/controls"
          }
        },
        "a9904ae11ecd4ac08b6670f736891731": {
          "model_module": "@jupyter-widgets/base",
          "model_name": "LayoutModel",
          "state": {
            "_view_name": "LayoutView",
            "grid_template_rows": null,
            "right": null,
            "justify_content": null,
            "_view_module": "@jupyter-widgets/base",
            "overflow": null,
            "_model_module_version": "1.2.0",
            "_view_count": null,
            "flex_flow": null,
            "width": null,
            "min_width": null,
            "border": null,
            "align_items": null,
            "bottom": null,
            "_model_module": "@jupyter-widgets/base",
            "top": null,
            "grid_column": null,
            "overflow_y": null,
            "overflow_x": null,
            "grid_auto_flow": null,
            "grid_area": null,
            "grid_template_columns": null,
            "flex": null,
            "_model_name": "LayoutModel",
            "justify_items": null,
            "grid_row": null,
            "max_height": null,
            "align_content": null,
            "visibility": null,
            "align_self": null,
            "height": null,
            "min_height": null,
            "padding": null,
            "grid_auto_rows": null,
            "grid_gap": null,
            "max_width": null,
            "order": null,
            "_view_module_version": "1.2.0",
            "grid_template_areas": null,
            "object_position": null,
            "object_fit": null,
            "grid_auto_columns": null,
            "margin": null,
            "display": null,
            "left": null
          }
        },
        "01c11deb257a4f5fb584130ca6cd1c33": {
          "model_module": "@jupyter-widgets/controls",
          "model_name": "DescriptionStyleModel",
          "state": {
            "_view_name": "StyleView",
            "_model_name": "DescriptionStyleModel",
            "description_width": "",
            "_view_module": "@jupyter-widgets/base",
            "_model_module_version": "1.5.0",
            "_view_count": null,
            "_view_module_version": "1.2.0",
            "_model_module": "@jupyter-widgets/controls"
          }
        },
        "0176305a999348a4b79f75367cbb4f14": {
          "model_module": "@jupyter-widgets/base",
          "model_name": "LayoutModel",
          "state": {
            "_view_name": "LayoutView",
            "grid_template_rows": null,
            "right": null,
            "justify_content": null,
            "_view_module": "@jupyter-widgets/base",
            "overflow": null,
            "_model_module_version": "1.2.0",
            "_view_count": null,
            "flex_flow": null,
            "width": null,
            "min_width": null,
            "border": null,
            "align_items": null,
            "bottom": null,
            "_model_module": "@jupyter-widgets/base",
            "top": null,
            "grid_column": null,
            "overflow_y": null,
            "overflow_x": null,
            "grid_auto_flow": null,
            "grid_area": null,
            "grid_template_columns": null,
            "flex": null,
            "_model_name": "LayoutModel",
            "justify_items": null,
            "grid_row": null,
            "max_height": null,
            "align_content": null,
            "visibility": null,
            "align_self": null,
            "height": null,
            "min_height": null,
            "padding": null,
            "grid_auto_rows": null,
            "grid_gap": null,
            "max_width": null,
            "order": null,
            "_view_module_version": "1.2.0",
            "grid_template_areas": null,
            "object_position": null,
            "object_fit": null,
            "grid_auto_columns": null,
            "margin": null,
            "display": null,
            "left": null
          }
        },
        "d3b53af92af94c82854fd97f89b9e199": {
          "model_module": "@jupyter-widgets/controls",
          "model_name": "HBoxModel",
          "state": {
            "_view_name": "HBoxView",
            "_dom_classes": [],
            "_model_name": "HBoxModel",
            "_view_module": "@jupyter-widgets/controls",
            "_model_module_version": "1.5.0",
            "_view_count": null,
            "_view_module_version": "1.5.0",
            "box_style": "",
            "layout": "IPY_MODEL_a87dfc41c99e4c04a0beaf16de213148",
            "_model_module": "@jupyter-widgets/controls",
            "children": [
              "IPY_MODEL_186cab9af0e2492cb01f27622c96b22b",
              "IPY_MODEL_f369a46c67d041d1891b3ad40a82754e"
            ]
          }
        },
        "a87dfc41c99e4c04a0beaf16de213148": {
          "model_module": "@jupyter-widgets/base",
          "model_name": "LayoutModel",
          "state": {
            "_view_name": "LayoutView",
            "grid_template_rows": null,
            "right": null,
            "justify_content": null,
            "_view_module": "@jupyter-widgets/base",
            "overflow": null,
            "_model_module_version": "1.2.0",
            "_view_count": null,
            "flex_flow": null,
            "width": null,
            "min_width": null,
            "border": null,
            "align_items": null,
            "bottom": null,
            "_model_module": "@jupyter-widgets/base",
            "top": null,
            "grid_column": null,
            "overflow_y": null,
            "overflow_x": null,
            "grid_auto_flow": null,
            "grid_area": null,
            "grid_template_columns": null,
            "flex": null,
            "_model_name": "LayoutModel",
            "justify_items": null,
            "grid_row": null,
            "max_height": null,
            "align_content": null,
            "visibility": null,
            "align_self": null,
            "height": null,
            "min_height": null,
            "padding": null,
            "grid_auto_rows": null,
            "grid_gap": null,
            "max_width": null,
            "order": null,
            "_view_module_version": "1.2.0",
            "grid_template_areas": null,
            "object_position": null,
            "object_fit": null,
            "grid_auto_columns": null,
            "margin": null,
            "display": null,
            "left": null
          }
        },
        "186cab9af0e2492cb01f27622c96b22b": {
          "model_module": "@jupyter-widgets/controls",
          "model_name": "FloatProgressModel",
          "state": {
            "_view_name": "ProgressView",
            "style": "IPY_MODEL_5efeb4318af04dc49f753e99c096007b",
            "_dom_classes": [],
            "description": "100%",
            "_model_name": "FloatProgressModel",
            "bar_style": "success",
            "max": 382,
            "_view_module": "@jupyter-widgets/controls",
            "_model_module_version": "1.5.0",
            "value": 382,
            "_view_count": null,
            "_view_module_version": "1.5.0",
            "orientation": "horizontal",
            "min": 0,
            "description_tooltip": null,
            "_model_module": "@jupyter-widgets/controls",
            "layout": "IPY_MODEL_54af72d3003a46f789e31e86fd48d3d1"
          }
        },
        "f369a46c67d041d1891b3ad40a82754e": {
          "model_module": "@jupyter-widgets/controls",
          "model_name": "HTMLModel",
          "state": {
            "_view_name": "HTMLView",
            "style": "IPY_MODEL_1bb4b65feb004eaba94e813bdaa4a384",
            "_dom_classes": [],
            "description": "",
            "_model_name": "HTMLModel",
            "placeholder": "​",
            "_view_module": "@jupyter-widgets/controls",
            "_model_module_version": "1.5.0",
            "value": " 382/382 [32:34&lt;00:00,  5.12s/it]",
            "_view_count": null,
            "_view_module_version": "1.5.0",
            "description_tooltip": null,
            "_model_module": "@jupyter-widgets/controls",
            "layout": "IPY_MODEL_fc78598ed8ff491b90384acea47af055"
          }
        },
        "5efeb4318af04dc49f753e99c096007b": {
          "model_module": "@jupyter-widgets/controls",
          "model_name": "ProgressStyleModel",
          "state": {
            "_view_name": "StyleView",
            "_model_name": "ProgressStyleModel",
            "description_width": "initial",
            "_view_module": "@jupyter-widgets/base",
            "_model_module_version": "1.5.0",
            "_view_count": null,
            "_view_module_version": "1.2.0",
            "bar_color": null,
            "_model_module": "@jupyter-widgets/controls"
          }
        },
        "54af72d3003a46f789e31e86fd48d3d1": {
          "model_module": "@jupyter-widgets/base",
          "model_name": "LayoutModel",
          "state": {
            "_view_name": "LayoutView",
            "grid_template_rows": null,
            "right": null,
            "justify_content": null,
            "_view_module": "@jupyter-widgets/base",
            "overflow": null,
            "_model_module_version": "1.2.0",
            "_view_count": null,
            "flex_flow": null,
            "width": null,
            "min_width": null,
            "border": null,
            "align_items": null,
            "bottom": null,
            "_model_module": "@jupyter-widgets/base",
            "top": null,
            "grid_column": null,
            "overflow_y": null,
            "overflow_x": null,
            "grid_auto_flow": null,
            "grid_area": null,
            "grid_template_columns": null,
            "flex": null,
            "_model_name": "LayoutModel",
            "justify_items": null,
            "grid_row": null,
            "max_height": null,
            "align_content": null,
            "visibility": null,
            "align_self": null,
            "height": null,
            "min_height": null,
            "padding": null,
            "grid_auto_rows": null,
            "grid_gap": null,
            "max_width": null,
            "order": null,
            "_view_module_version": "1.2.0",
            "grid_template_areas": null,
            "object_position": null,
            "object_fit": null,
            "grid_auto_columns": null,
            "margin": null,
            "display": null,
            "left": null
          }
        },
        "1bb4b65feb004eaba94e813bdaa4a384": {
          "model_module": "@jupyter-widgets/controls",
          "model_name": "DescriptionStyleModel",
          "state": {
            "_view_name": "StyleView",
            "_model_name": "DescriptionStyleModel",
            "description_width": "",
            "_view_module": "@jupyter-widgets/base",
            "_model_module_version": "1.5.0",
            "_view_count": null,
            "_view_module_version": "1.2.0",
            "_model_module": "@jupyter-widgets/controls"
          }
        },
        "fc78598ed8ff491b90384acea47af055": {
          "model_module": "@jupyter-widgets/base",
          "model_name": "LayoutModel",
          "state": {
            "_view_name": "LayoutView",
            "grid_template_rows": null,
            "right": null,
            "justify_content": null,
            "_view_module": "@jupyter-widgets/base",
            "overflow": null,
            "_model_module_version": "1.2.0",
            "_view_count": null,
            "flex_flow": null,
            "width": null,
            "min_width": null,
            "border": null,
            "align_items": null,
            "bottom": null,
            "_model_module": "@jupyter-widgets/base",
            "top": null,
            "grid_column": null,
            "overflow_y": null,
            "overflow_x": null,
            "grid_auto_flow": null,
            "grid_area": null,
            "grid_template_columns": null,
            "flex": null,
            "_model_name": "LayoutModel",
            "justify_items": null,
            "grid_row": null,
            "max_height": null,
            "align_content": null,
            "visibility": null,
            "align_self": null,
            "height": null,
            "min_height": null,
            "padding": null,
            "grid_auto_rows": null,
            "grid_gap": null,
            "max_width": null,
            "order": null,
            "_view_module_version": "1.2.0",
            "grid_template_areas": null,
            "object_position": null,
            "object_fit": null,
            "grid_auto_columns": null,
            "margin": null,
            "display": null,
            "left": null
          }
        },
        "2048781792d5443895b963a38fd55a1b": {
          "model_module": "@jupyter-widgets/controls",
          "model_name": "HBoxModel",
          "state": {
            "_view_name": "HBoxView",
            "_dom_classes": [],
            "_model_name": "HBoxModel",
            "_view_module": "@jupyter-widgets/controls",
            "_model_module_version": "1.5.0",
            "_view_count": null,
            "_view_module_version": "1.5.0",
            "box_style": "",
            "layout": "IPY_MODEL_04ab853564c4433ea1dd59d8b6364597",
            "_model_module": "@jupyter-widgets/controls",
            "children": [
              "IPY_MODEL_81565183c94b4538ad4eed352ff5e764",
              "IPY_MODEL_7db401083ce14dfe9b3cd544fc6fb709"
            ]
          }
        },
        "04ab853564c4433ea1dd59d8b6364597": {
          "model_module": "@jupyter-widgets/base",
          "model_name": "LayoutModel",
          "state": {
            "_view_name": "LayoutView",
            "grid_template_rows": null,
            "right": null,
            "justify_content": null,
            "_view_module": "@jupyter-widgets/base",
            "overflow": null,
            "_model_module_version": "1.2.0",
            "_view_count": null,
            "flex_flow": null,
            "width": null,
            "min_width": null,
            "border": null,
            "align_items": null,
            "bottom": null,
            "_model_module": "@jupyter-widgets/base",
            "top": null,
            "grid_column": null,
            "overflow_y": null,
            "overflow_x": null,
            "grid_auto_flow": null,
            "grid_area": null,
            "grid_template_columns": null,
            "flex": null,
            "_model_name": "LayoutModel",
            "justify_items": null,
            "grid_row": null,
            "max_height": null,
            "align_content": null,
            "visibility": null,
            "align_self": null,
            "height": null,
            "min_height": null,
            "padding": null,
            "grid_auto_rows": null,
            "grid_gap": null,
            "max_width": null,
            "order": null,
            "_view_module_version": "1.2.0",
            "grid_template_areas": null,
            "object_position": null,
            "object_fit": null,
            "grid_auto_columns": null,
            "margin": null,
            "display": null,
            "left": null
          }
        },
        "81565183c94b4538ad4eed352ff5e764": {
          "model_module": "@jupyter-widgets/controls",
          "model_name": "FloatProgressModel",
          "state": {
            "_view_name": "ProgressView",
            "style": "IPY_MODEL_e6943eb32d5541c2b00921833cd37cb3",
            "_dom_classes": [],
            "description": "100%",
            "_model_name": "FloatProgressModel",
            "bar_style": "success",
            "max": 101,
            "_view_module": "@jupyter-widgets/controls",
            "_model_module_version": "1.5.0",
            "value": 101,
            "_view_count": null,
            "_view_module_version": "1.5.0",
            "orientation": "horizontal",
            "min": 0,
            "description_tooltip": null,
            "_model_module": "@jupyter-widgets/controls",
            "layout": "IPY_MODEL_2a4b05dbc2bd433e9ffe084410908261"
          }
        },
        "7db401083ce14dfe9b3cd544fc6fb709": {
          "model_module": "@jupyter-widgets/controls",
          "model_name": "HTMLModel",
          "state": {
            "_view_name": "HTMLView",
            "style": "IPY_MODEL_e31d8e6047424757b4f0d8b7d8904beb",
            "_dom_classes": [],
            "description": "",
            "_model_name": "HTMLModel",
            "placeholder": "​",
            "_view_module": "@jupyter-widgets/controls",
            "_model_module_version": "1.5.0",
            "value": " 101/101 [8:58:14&lt;00:00, 319.74s/it]",
            "_view_count": null,
            "_view_module_version": "1.5.0",
            "description_tooltip": null,
            "_model_module": "@jupyter-widgets/controls",
            "layout": "IPY_MODEL_9a4eff169e544727b6b2cbe5a46d061c"
          }
        },
        "e6943eb32d5541c2b00921833cd37cb3": {
          "model_module": "@jupyter-widgets/controls",
          "model_name": "ProgressStyleModel",
          "state": {
            "_view_name": "StyleView",
            "_model_name": "ProgressStyleModel",
            "description_width": "initial",
            "_view_module": "@jupyter-widgets/base",
            "_model_module_version": "1.5.0",
            "_view_count": null,
            "_view_module_version": "1.2.0",
            "bar_color": null,
            "_model_module": "@jupyter-widgets/controls"
          }
        },
        "2a4b05dbc2bd433e9ffe084410908261": {
          "model_module": "@jupyter-widgets/base",
          "model_name": "LayoutModel",
          "state": {
            "_view_name": "LayoutView",
            "grid_template_rows": null,
            "right": null,
            "justify_content": null,
            "_view_module": "@jupyter-widgets/base",
            "overflow": null,
            "_model_module_version": "1.2.0",
            "_view_count": null,
            "flex_flow": null,
            "width": null,
            "min_width": null,
            "border": null,
            "align_items": null,
            "bottom": null,
            "_model_module": "@jupyter-widgets/base",
            "top": null,
            "grid_column": null,
            "overflow_y": null,
            "overflow_x": null,
            "grid_auto_flow": null,
            "grid_area": null,
            "grid_template_columns": null,
            "flex": null,
            "_model_name": "LayoutModel",
            "justify_items": null,
            "grid_row": null,
            "max_height": null,
            "align_content": null,
            "visibility": null,
            "align_self": null,
            "height": null,
            "min_height": null,
            "padding": null,
            "grid_auto_rows": null,
            "grid_gap": null,
            "max_width": null,
            "order": null,
            "_view_module_version": "1.2.0",
            "grid_template_areas": null,
            "object_position": null,
            "object_fit": null,
            "grid_auto_columns": null,
            "margin": null,
            "display": null,
            "left": null
          }
        },
        "e31d8e6047424757b4f0d8b7d8904beb": {
          "model_module": "@jupyter-widgets/controls",
          "model_name": "DescriptionStyleModel",
          "state": {
            "_view_name": "StyleView",
            "_model_name": "DescriptionStyleModel",
            "description_width": "",
            "_view_module": "@jupyter-widgets/base",
            "_model_module_version": "1.5.0",
            "_view_count": null,
            "_view_module_version": "1.2.0",
            "_model_module": "@jupyter-widgets/controls"
          }
        },
        "9a4eff169e544727b6b2cbe5a46d061c": {
          "model_module": "@jupyter-widgets/base",
          "model_name": "LayoutModel",
          "state": {
            "_view_name": "LayoutView",
            "grid_template_rows": null,
            "right": null,
            "justify_content": null,
            "_view_module": "@jupyter-widgets/base",
            "overflow": null,
            "_model_module_version": "1.2.0",
            "_view_count": null,
            "flex_flow": null,
            "width": null,
            "min_width": null,
            "border": null,
            "align_items": null,
            "bottom": null,
            "_model_module": "@jupyter-widgets/base",
            "top": null,
            "grid_column": null,
            "overflow_y": null,
            "overflow_x": null,
            "grid_auto_flow": null,
            "grid_area": null,
            "grid_template_columns": null,
            "flex": null,
            "_model_name": "LayoutModel",
            "justify_items": null,
            "grid_row": null,
            "max_height": null,
            "align_content": null,
            "visibility": null,
            "align_self": null,
            "height": null,
            "min_height": null,
            "padding": null,
            "grid_auto_rows": null,
            "grid_gap": null,
            "max_width": null,
            "order": null,
            "_view_module_version": "1.2.0",
            "grid_template_areas": null,
            "object_position": null,
            "object_fit": null,
            "grid_auto_columns": null,
            "margin": null,
            "display": null,
            "left": null
          }
        },
        "854a2ee8f4f64604aa7b43b95fb8f7aa": {
          "model_module": "@jupyter-widgets/controls",
          "model_name": "HBoxModel",
          "state": {
            "_view_name": "HBoxView",
            "_dom_classes": [],
            "_model_name": "HBoxModel",
            "_view_module": "@jupyter-widgets/controls",
            "_model_module_version": "1.5.0",
            "_view_count": null,
            "_view_module_version": "1.5.0",
            "box_style": "",
            "layout": "IPY_MODEL_b3badd8a50344b5a8f8ccbcb5718cd55",
            "_model_module": "@jupyter-widgets/controls",
            "children": [
              "IPY_MODEL_612edd93879e426fae53ab4af47d2aea",
              "IPY_MODEL_6de25a767d3d44478bda09a5311cd77e"
            ]
          }
        },
        "b3badd8a50344b5a8f8ccbcb5718cd55": {
          "model_module": "@jupyter-widgets/base",
          "model_name": "LayoutModel",
          "state": {
            "_view_name": "LayoutView",
            "grid_template_rows": null,
            "right": null,
            "justify_content": null,
            "_view_module": "@jupyter-widgets/base",
            "overflow": null,
            "_model_module_version": "1.2.0",
            "_view_count": null,
            "flex_flow": null,
            "width": null,
            "min_width": null,
            "border": null,
            "align_items": null,
            "bottom": null,
            "_model_module": "@jupyter-widgets/base",
            "top": null,
            "grid_column": null,
            "overflow_y": null,
            "overflow_x": null,
            "grid_auto_flow": null,
            "grid_area": null,
            "grid_template_columns": null,
            "flex": null,
            "_model_name": "LayoutModel",
            "justify_items": null,
            "grid_row": null,
            "max_height": null,
            "align_content": null,
            "visibility": null,
            "align_self": null,
            "height": null,
            "min_height": null,
            "padding": null,
            "grid_auto_rows": null,
            "grid_gap": null,
            "max_width": null,
            "order": null,
            "_view_module_version": "1.2.0",
            "grid_template_areas": null,
            "object_position": null,
            "object_fit": null,
            "grid_auto_columns": null,
            "margin": null,
            "display": null,
            "left": null
          }
        },
        "612edd93879e426fae53ab4af47d2aea": {
          "model_module": "@jupyter-widgets/controls",
          "model_name": "FloatProgressModel",
          "state": {
            "_view_name": "ProgressView",
            "style": "IPY_MODEL_a436025a77214d1292346d88d5e78c7b",
            "_dom_classes": [],
            "description": "100%",
            "_model_name": "FloatProgressModel",
            "bar_style": "success",
            "max": 129,
            "_view_module": "@jupyter-widgets/controls",
            "_model_module_version": "1.5.0",
            "value": 129,
            "_view_count": null,
            "_view_module_version": "1.5.0",
            "orientation": "horizontal",
            "min": 0,
            "description_tooltip": null,
            "_model_module": "@jupyter-widgets/controls",
            "layout": "IPY_MODEL_b84226fd4bdb43308888706fb112c7c5"
          }
        },
        "6de25a767d3d44478bda09a5311cd77e": {
          "model_module": "@jupyter-widgets/controls",
          "model_name": "HTMLModel",
          "state": {
            "_view_name": "HTMLView",
            "style": "IPY_MODEL_160a0a9b34fa4612a5f47752a74dd8ac",
            "_dom_classes": [],
            "description": "",
            "_model_name": "HTMLModel",
            "placeholder": "​",
            "_view_module": "@jupyter-widgets/controls",
            "_model_module_version": "1.5.0",
            "value": " 129/129 [8:39:12&lt;00:00, 241.50s/it]",
            "_view_count": null,
            "_view_module_version": "1.5.0",
            "description_tooltip": null,
            "_model_module": "@jupyter-widgets/controls",
            "layout": "IPY_MODEL_5d1034d51057484f81f5a3d8f5093bef"
          }
        },
        "a436025a77214d1292346d88d5e78c7b": {
          "model_module": "@jupyter-widgets/controls",
          "model_name": "ProgressStyleModel",
          "state": {
            "_view_name": "StyleView",
            "_model_name": "ProgressStyleModel",
            "description_width": "initial",
            "_view_module": "@jupyter-widgets/base",
            "_model_module_version": "1.5.0",
            "_view_count": null,
            "_view_module_version": "1.2.0",
            "bar_color": null,
            "_model_module": "@jupyter-widgets/controls"
          }
        },
        "b84226fd4bdb43308888706fb112c7c5": {
          "model_module": "@jupyter-widgets/base",
          "model_name": "LayoutModel",
          "state": {
            "_view_name": "LayoutView",
            "grid_template_rows": null,
            "right": null,
            "justify_content": null,
            "_view_module": "@jupyter-widgets/base",
            "overflow": null,
            "_model_module_version": "1.2.0",
            "_view_count": null,
            "flex_flow": null,
            "width": null,
            "min_width": null,
            "border": null,
            "align_items": null,
            "bottom": null,
            "_model_module": "@jupyter-widgets/base",
            "top": null,
            "grid_column": null,
            "overflow_y": null,
            "overflow_x": null,
            "grid_auto_flow": null,
            "grid_area": null,
            "grid_template_columns": null,
            "flex": null,
            "_model_name": "LayoutModel",
            "justify_items": null,
            "grid_row": null,
            "max_height": null,
            "align_content": null,
            "visibility": null,
            "align_self": null,
            "height": null,
            "min_height": null,
            "padding": null,
            "grid_auto_rows": null,
            "grid_gap": null,
            "max_width": null,
            "order": null,
            "_view_module_version": "1.2.0",
            "grid_template_areas": null,
            "object_position": null,
            "object_fit": null,
            "grid_auto_columns": null,
            "margin": null,
            "display": null,
            "left": null
          }
        },
        "160a0a9b34fa4612a5f47752a74dd8ac": {
          "model_module": "@jupyter-widgets/controls",
          "model_name": "DescriptionStyleModel",
          "state": {
            "_view_name": "StyleView",
            "_model_name": "DescriptionStyleModel",
            "description_width": "",
            "_view_module": "@jupyter-widgets/base",
            "_model_module_version": "1.5.0",
            "_view_count": null,
            "_view_module_version": "1.2.0",
            "_model_module": "@jupyter-widgets/controls"
          }
        },
        "5d1034d51057484f81f5a3d8f5093bef": {
          "model_module": "@jupyter-widgets/base",
          "model_name": "LayoutModel",
          "state": {
            "_view_name": "LayoutView",
            "grid_template_rows": null,
            "right": null,
            "justify_content": null,
            "_view_module": "@jupyter-widgets/base",
            "overflow": null,
            "_model_module_version": "1.2.0",
            "_view_count": null,
            "flex_flow": null,
            "width": null,
            "min_width": null,
            "border": null,
            "align_items": null,
            "bottom": null,
            "_model_module": "@jupyter-widgets/base",
            "top": null,
            "grid_column": null,
            "overflow_y": null,
            "overflow_x": null,
            "grid_auto_flow": null,
            "grid_area": null,
            "grid_template_columns": null,
            "flex": null,
            "_model_name": "LayoutModel",
            "justify_items": null,
            "grid_row": null,
            "max_height": null,
            "align_content": null,
            "visibility": null,
            "align_self": null,
            "height": null,
            "min_height": null,
            "padding": null,
            "grid_auto_rows": null,
            "grid_gap": null,
            "max_width": null,
            "order": null,
            "_view_module_version": "1.2.0",
            "grid_template_areas": null,
            "object_position": null,
            "object_fit": null,
            "grid_auto_columns": null,
            "margin": null,
            "display": null,
            "left": null
          }
        },
        "aa77759e1cc04ea1858ebb5aa4e052af": {
          "model_module": "@jupyter-widgets/controls",
          "model_name": "HBoxModel",
          "state": {
            "_view_name": "HBoxView",
            "_dom_classes": [],
            "_model_name": "HBoxModel",
            "_view_module": "@jupyter-widgets/controls",
            "_model_module_version": "1.5.0",
            "_view_count": null,
            "_view_module_version": "1.5.0",
            "box_style": "",
            "layout": "IPY_MODEL_317e52c0565b49b0ada6534448af6a7f",
            "_model_module": "@jupyter-widgets/controls",
            "children": [
              "IPY_MODEL_1a075e74bad14a84b0b84e25dc7eaeb6",
              "IPY_MODEL_c07a35b8728f48fc9d7e5b27882d5d16"
            ]
          }
        },
        "317e52c0565b49b0ada6534448af6a7f": {
          "model_module": "@jupyter-widgets/base",
          "model_name": "LayoutModel",
          "state": {
            "_view_name": "LayoutView",
            "grid_template_rows": null,
            "right": null,
            "justify_content": null,
            "_view_module": "@jupyter-widgets/base",
            "overflow": null,
            "_model_module_version": "1.2.0",
            "_view_count": null,
            "flex_flow": null,
            "width": null,
            "min_width": null,
            "border": null,
            "align_items": null,
            "bottom": null,
            "_model_module": "@jupyter-widgets/base",
            "top": null,
            "grid_column": null,
            "overflow_y": null,
            "overflow_x": null,
            "grid_auto_flow": null,
            "grid_area": null,
            "grid_template_columns": null,
            "flex": null,
            "_model_name": "LayoutModel",
            "justify_items": null,
            "grid_row": null,
            "max_height": null,
            "align_content": null,
            "visibility": null,
            "align_self": null,
            "height": null,
            "min_height": null,
            "padding": null,
            "grid_auto_rows": null,
            "grid_gap": null,
            "max_width": null,
            "order": null,
            "_view_module_version": "1.2.0",
            "grid_template_areas": null,
            "object_position": null,
            "object_fit": null,
            "grid_auto_columns": null,
            "margin": null,
            "display": null,
            "left": null
          }
        },
        "1a075e74bad14a84b0b84e25dc7eaeb6": {
          "model_module": "@jupyter-widgets/controls",
          "model_name": "FloatProgressModel",
          "state": {
            "_view_name": "ProgressView",
            "style": "IPY_MODEL_3b3f1f2a8efc4511917d0bcc63a86d2f",
            "_dom_classes": [],
            "description": "100%",
            "_model_name": "FloatProgressModel",
            "bar_style": "success",
            "max": 930,
            "_view_module": "@jupyter-widgets/controls",
            "_model_module_version": "1.5.0",
            "value": 930,
            "_view_count": null,
            "_view_module_version": "1.5.0",
            "orientation": "horizontal",
            "min": 0,
            "description_tooltip": null,
            "_model_module": "@jupyter-widgets/controls",
            "layout": "IPY_MODEL_3d1078926c5d41e0ba429a8a9d0385ad"
          }
        },
        "c07a35b8728f48fc9d7e5b27882d5d16": {
          "model_module": "@jupyter-widgets/controls",
          "model_name": "HTMLModel",
          "state": {
            "_view_name": "HTMLView",
            "style": "IPY_MODEL_dc42b5837c0e4125ae101c8e1b4a9665",
            "_dom_classes": [],
            "description": "",
            "_model_name": "HTMLModel",
            "placeholder": "​",
            "_view_module": "@jupyter-widgets/controls",
            "_model_module_version": "1.5.0",
            "value": " 930/930 [8:27:56&lt;00:00, 32.77s/it]",
            "_view_count": null,
            "_view_module_version": "1.5.0",
            "description_tooltip": null,
            "_model_module": "@jupyter-widgets/controls",
            "layout": "IPY_MODEL_95b02472ef81440ebea9f96a8e1a64a2"
          }
        },
        "3b3f1f2a8efc4511917d0bcc63a86d2f": {
          "model_module": "@jupyter-widgets/controls",
          "model_name": "ProgressStyleModel",
          "state": {
            "_view_name": "StyleView",
            "_model_name": "ProgressStyleModel",
            "description_width": "initial",
            "_view_module": "@jupyter-widgets/base",
            "_model_module_version": "1.5.0",
            "_view_count": null,
            "_view_module_version": "1.2.0",
            "bar_color": null,
            "_model_module": "@jupyter-widgets/controls"
          }
        },
        "3d1078926c5d41e0ba429a8a9d0385ad": {
          "model_module": "@jupyter-widgets/base",
          "model_name": "LayoutModel",
          "state": {
            "_view_name": "LayoutView",
            "grid_template_rows": null,
            "right": null,
            "justify_content": null,
            "_view_module": "@jupyter-widgets/base",
            "overflow": null,
            "_model_module_version": "1.2.0",
            "_view_count": null,
            "flex_flow": null,
            "width": null,
            "min_width": null,
            "border": null,
            "align_items": null,
            "bottom": null,
            "_model_module": "@jupyter-widgets/base",
            "top": null,
            "grid_column": null,
            "overflow_y": null,
            "overflow_x": null,
            "grid_auto_flow": null,
            "grid_area": null,
            "grid_template_columns": null,
            "flex": null,
            "_model_name": "LayoutModel",
            "justify_items": null,
            "grid_row": null,
            "max_height": null,
            "align_content": null,
            "visibility": null,
            "align_self": null,
            "height": null,
            "min_height": null,
            "padding": null,
            "grid_auto_rows": null,
            "grid_gap": null,
            "max_width": null,
            "order": null,
            "_view_module_version": "1.2.0",
            "grid_template_areas": null,
            "object_position": null,
            "object_fit": null,
            "grid_auto_columns": null,
            "margin": null,
            "display": null,
            "left": null
          }
        },
        "dc42b5837c0e4125ae101c8e1b4a9665": {
          "model_module": "@jupyter-widgets/controls",
          "model_name": "DescriptionStyleModel",
          "state": {
            "_view_name": "StyleView",
            "_model_name": "DescriptionStyleModel",
            "description_width": "",
            "_view_module": "@jupyter-widgets/base",
            "_model_module_version": "1.5.0",
            "_view_count": null,
            "_view_module_version": "1.2.0",
            "_model_module": "@jupyter-widgets/controls"
          }
        },
        "95b02472ef81440ebea9f96a8e1a64a2": {
          "model_module": "@jupyter-widgets/base",
          "model_name": "LayoutModel",
          "state": {
            "_view_name": "LayoutView",
            "grid_template_rows": null,
            "right": null,
            "justify_content": null,
            "_view_module": "@jupyter-widgets/base",
            "overflow": null,
            "_model_module_version": "1.2.0",
            "_view_count": null,
            "flex_flow": null,
            "width": null,
            "min_width": null,
            "border": null,
            "align_items": null,
            "bottom": null,
            "_model_module": "@jupyter-widgets/base",
            "top": null,
            "grid_column": null,
            "overflow_y": null,
            "overflow_x": null,
            "grid_auto_flow": null,
            "grid_area": null,
            "grid_template_columns": null,
            "flex": null,
            "_model_name": "LayoutModel",
            "justify_items": null,
            "grid_row": null,
            "max_height": null,
            "align_content": null,
            "visibility": null,
            "align_self": null,
            "height": null,
            "min_height": null,
            "padding": null,
            "grid_auto_rows": null,
            "grid_gap": null,
            "max_width": null,
            "order": null,
            "_view_module_version": "1.2.0",
            "grid_template_areas": null,
            "object_position": null,
            "object_fit": null,
            "grid_auto_columns": null,
            "margin": null,
            "display": null,
            "left": null
          }
        },
        "7ec0c12a5a2142898b284d53186b5dd9": {
          "model_module": "@jupyter-widgets/controls",
          "model_name": "HBoxModel",
          "state": {
            "_view_name": "HBoxView",
            "_dom_classes": [],
            "_model_name": "HBoxModel",
            "_view_module": "@jupyter-widgets/controls",
            "_model_module_version": "1.5.0",
            "_view_count": null,
            "_view_module_version": "1.5.0",
            "box_style": "",
            "layout": "IPY_MODEL_79341df24f2748c09db0c212bad6e44d",
            "_model_module": "@jupyter-widgets/controls",
            "children": [
              "IPY_MODEL_46b4902c91044d798688647f58663f41",
              "IPY_MODEL_c021f927408b4c4db1870d46d83de94d"
            ]
          }
        },
        "79341df24f2748c09db0c212bad6e44d": {
          "model_module": "@jupyter-widgets/base",
          "model_name": "LayoutModel",
          "state": {
            "_view_name": "LayoutView",
            "grid_template_rows": null,
            "right": null,
            "justify_content": null,
            "_view_module": "@jupyter-widgets/base",
            "overflow": null,
            "_model_module_version": "1.2.0",
            "_view_count": null,
            "flex_flow": null,
            "width": null,
            "min_width": null,
            "border": null,
            "align_items": null,
            "bottom": null,
            "_model_module": "@jupyter-widgets/base",
            "top": null,
            "grid_column": null,
            "overflow_y": null,
            "overflow_x": null,
            "grid_auto_flow": null,
            "grid_area": null,
            "grid_template_columns": null,
            "flex": null,
            "_model_name": "LayoutModel",
            "justify_items": null,
            "grid_row": null,
            "max_height": null,
            "align_content": null,
            "visibility": null,
            "align_self": null,
            "height": null,
            "min_height": null,
            "padding": null,
            "grid_auto_rows": null,
            "grid_gap": null,
            "max_width": null,
            "order": null,
            "_view_module_version": "1.2.0",
            "grid_template_areas": null,
            "object_position": null,
            "object_fit": null,
            "grid_auto_columns": null,
            "margin": null,
            "display": null,
            "left": null
          }
        },
        "46b4902c91044d798688647f58663f41": {
          "model_module": "@jupyter-widgets/controls",
          "model_name": "FloatProgressModel",
          "state": {
            "_view_name": "ProgressView",
            "style": "IPY_MODEL_969b92408ee540dc86c9e6541ce7b067",
            "_dom_classes": [],
            "description": "100%",
            "_model_name": "FloatProgressModel",
            "bar_style": "success",
            "max": 545,
            "_view_module": "@jupyter-widgets/controls",
            "_model_module_version": "1.5.0",
            "value": 545,
            "_view_count": null,
            "_view_module_version": "1.5.0",
            "orientation": "horizontal",
            "min": 0,
            "description_tooltip": null,
            "_model_module": "@jupyter-widgets/controls",
            "layout": "IPY_MODEL_81002c7998884bf8a42abd83db2124a2"
          }
        },
        "c021f927408b4c4db1870d46d83de94d": {
          "model_module": "@jupyter-widgets/controls",
          "model_name": "HTMLModel",
          "state": {
            "_view_name": "HTMLView",
            "style": "IPY_MODEL_764b1f559eff43d1a7a894ad1ac7dbb4",
            "_dom_classes": [],
            "description": "",
            "_model_name": "HTMLModel",
            "placeholder": "​",
            "_view_module": "@jupyter-widgets/controls",
            "_model_module_version": "1.5.0",
            "value": " 545/545 [7:08:16&lt;00:00, 47.15s/it]",
            "_view_count": null,
            "_view_module_version": "1.5.0",
            "description_tooltip": null,
            "_model_module": "@jupyter-widgets/controls",
            "layout": "IPY_MODEL_aa93e6dca42a4be8a94af15539c292ed"
          }
        },
        "969b92408ee540dc86c9e6541ce7b067": {
          "model_module": "@jupyter-widgets/controls",
          "model_name": "ProgressStyleModel",
          "state": {
            "_view_name": "StyleView",
            "_model_name": "ProgressStyleModel",
            "description_width": "initial",
            "_view_module": "@jupyter-widgets/base",
            "_model_module_version": "1.5.0",
            "_view_count": null,
            "_view_module_version": "1.2.0",
            "bar_color": null,
            "_model_module": "@jupyter-widgets/controls"
          }
        },
        "81002c7998884bf8a42abd83db2124a2": {
          "model_module": "@jupyter-widgets/base",
          "model_name": "LayoutModel",
          "state": {
            "_view_name": "LayoutView",
            "grid_template_rows": null,
            "right": null,
            "justify_content": null,
            "_view_module": "@jupyter-widgets/base",
            "overflow": null,
            "_model_module_version": "1.2.0",
            "_view_count": null,
            "flex_flow": null,
            "width": null,
            "min_width": null,
            "border": null,
            "align_items": null,
            "bottom": null,
            "_model_module": "@jupyter-widgets/base",
            "top": null,
            "grid_column": null,
            "overflow_y": null,
            "overflow_x": null,
            "grid_auto_flow": null,
            "grid_area": null,
            "grid_template_columns": null,
            "flex": null,
            "_model_name": "LayoutModel",
            "justify_items": null,
            "grid_row": null,
            "max_height": null,
            "align_content": null,
            "visibility": null,
            "align_self": null,
            "height": null,
            "min_height": null,
            "padding": null,
            "grid_auto_rows": null,
            "grid_gap": null,
            "max_width": null,
            "order": null,
            "_view_module_version": "1.2.0",
            "grid_template_areas": null,
            "object_position": null,
            "object_fit": null,
            "grid_auto_columns": null,
            "margin": null,
            "display": null,
            "left": null
          }
        },
        "764b1f559eff43d1a7a894ad1ac7dbb4": {
          "model_module": "@jupyter-widgets/controls",
          "model_name": "DescriptionStyleModel",
          "state": {
            "_view_name": "StyleView",
            "_model_name": "DescriptionStyleModel",
            "description_width": "",
            "_view_module": "@jupyter-widgets/base",
            "_model_module_version": "1.5.0",
            "_view_count": null,
            "_view_module_version": "1.2.0",
            "_model_module": "@jupyter-widgets/controls"
          }
        },
        "aa93e6dca42a4be8a94af15539c292ed": {
          "model_module": "@jupyter-widgets/base",
          "model_name": "LayoutModel",
          "state": {
            "_view_name": "LayoutView",
            "grid_template_rows": null,
            "right": null,
            "justify_content": null,
            "_view_module": "@jupyter-widgets/base",
            "overflow": null,
            "_model_module_version": "1.2.0",
            "_view_count": null,
            "flex_flow": null,
            "width": null,
            "min_width": null,
            "border": null,
            "align_items": null,
            "bottom": null,
            "_model_module": "@jupyter-widgets/base",
            "top": null,
            "grid_column": null,
            "overflow_y": null,
            "overflow_x": null,
            "grid_auto_flow": null,
            "grid_area": null,
            "grid_template_columns": null,
            "flex": null,
            "_model_name": "LayoutModel",
            "justify_items": null,
            "grid_row": null,
            "max_height": null,
            "align_content": null,
            "visibility": null,
            "align_self": null,
            "height": null,
            "min_height": null,
            "padding": null,
            "grid_auto_rows": null,
            "grid_gap": null,
            "max_width": null,
            "order": null,
            "_view_module_version": "1.2.0",
            "grid_template_areas": null,
            "object_position": null,
            "object_fit": null,
            "grid_auto_columns": null,
            "margin": null,
            "display": null,
            "left": null
          }
        },
        "d07728b7bc264e319a706152e4df80db": {
          "model_module": "@jupyter-widgets/controls",
          "model_name": "HBoxModel",
          "state": {
            "_view_name": "HBoxView",
            "_dom_classes": [],
            "_model_name": "HBoxModel",
            "_view_module": "@jupyter-widgets/controls",
            "_model_module_version": "1.5.0",
            "_view_count": null,
            "_view_module_version": "1.5.0",
            "box_style": "",
            "layout": "IPY_MODEL_512f0bc7fb34445a9f683dca2dfa4386",
            "_model_module": "@jupyter-widgets/controls",
            "children": [
              "IPY_MODEL_97c78c9f849449798e8b1f2f4a91a16a",
              "IPY_MODEL_2687b7febe25418d9cd9ac67e0796ca5"
            ]
          }
        },
        "512f0bc7fb34445a9f683dca2dfa4386": {
          "model_module": "@jupyter-widgets/base",
          "model_name": "LayoutModel",
          "state": {
            "_view_name": "LayoutView",
            "grid_template_rows": null,
            "right": null,
            "justify_content": null,
            "_view_module": "@jupyter-widgets/base",
            "overflow": null,
            "_model_module_version": "1.2.0",
            "_view_count": null,
            "flex_flow": null,
            "width": null,
            "min_width": null,
            "border": null,
            "align_items": null,
            "bottom": null,
            "_model_module": "@jupyter-widgets/base",
            "top": null,
            "grid_column": null,
            "overflow_y": null,
            "overflow_x": null,
            "grid_auto_flow": null,
            "grid_area": null,
            "grid_template_columns": null,
            "flex": null,
            "_model_name": "LayoutModel",
            "justify_items": null,
            "grid_row": null,
            "max_height": null,
            "align_content": null,
            "visibility": null,
            "align_self": null,
            "height": null,
            "min_height": null,
            "padding": null,
            "grid_auto_rows": null,
            "grid_gap": null,
            "max_width": null,
            "order": null,
            "_view_module_version": "1.2.0",
            "grid_template_areas": null,
            "object_position": null,
            "object_fit": null,
            "grid_auto_columns": null,
            "margin": null,
            "display": null,
            "left": null
          }
        },
        "97c78c9f849449798e8b1f2f4a91a16a": {
          "model_module": "@jupyter-widgets/controls",
          "model_name": "FloatProgressModel",
          "state": {
            "_view_name": "ProgressView",
            "style": "IPY_MODEL_910cb2a96a904f878afd2afe8aa8e32c",
            "_dom_classes": [],
            "description": "100%",
            "_model_name": "FloatProgressModel",
            "bar_style": "success",
            "max": 1065,
            "_view_module": "@jupyter-widgets/controls",
            "_model_module_version": "1.5.0",
            "value": 1065,
            "_view_count": null,
            "_view_module_version": "1.5.0",
            "orientation": "horizontal",
            "min": 0,
            "description_tooltip": null,
            "_model_module": "@jupyter-widgets/controls",
            "layout": "IPY_MODEL_24d2614b4c5148999fd87bf6487a9a1a"
          }
        },
        "2687b7febe25418d9cd9ac67e0796ca5": {
          "model_module": "@jupyter-widgets/controls",
          "model_name": "HTMLModel",
          "state": {
            "_view_name": "HTMLView",
            "style": "IPY_MODEL_a57072d488814ffdae89b10a397477f8",
            "_dom_classes": [],
            "description": "",
            "_model_name": "HTMLModel",
            "placeholder": "​",
            "_view_module": "@jupyter-widgets/controls",
            "_model_module_version": "1.5.0",
            "value": " 1065/1065 [6:23:14&lt;00:00, 21.59s/it]",
            "_view_count": null,
            "_view_module_version": "1.5.0",
            "description_tooltip": null,
            "_model_module": "@jupyter-widgets/controls",
            "layout": "IPY_MODEL_1173a7881216485791fab33e2b029054"
          }
        },
        "910cb2a96a904f878afd2afe8aa8e32c": {
          "model_module": "@jupyter-widgets/controls",
          "model_name": "ProgressStyleModel",
          "state": {
            "_view_name": "StyleView",
            "_model_name": "ProgressStyleModel",
            "description_width": "initial",
            "_view_module": "@jupyter-widgets/base",
            "_model_module_version": "1.5.0",
            "_view_count": null,
            "_view_module_version": "1.2.0",
            "bar_color": null,
            "_model_module": "@jupyter-widgets/controls"
          }
        },
        "24d2614b4c5148999fd87bf6487a9a1a": {
          "model_module": "@jupyter-widgets/base",
          "model_name": "LayoutModel",
          "state": {
            "_view_name": "LayoutView",
            "grid_template_rows": null,
            "right": null,
            "justify_content": null,
            "_view_module": "@jupyter-widgets/base",
            "overflow": null,
            "_model_module_version": "1.2.0",
            "_view_count": null,
            "flex_flow": null,
            "width": null,
            "min_width": null,
            "border": null,
            "align_items": null,
            "bottom": null,
            "_model_module": "@jupyter-widgets/base",
            "top": null,
            "grid_column": null,
            "overflow_y": null,
            "overflow_x": null,
            "grid_auto_flow": null,
            "grid_area": null,
            "grid_template_columns": null,
            "flex": null,
            "_model_name": "LayoutModel",
            "justify_items": null,
            "grid_row": null,
            "max_height": null,
            "align_content": null,
            "visibility": null,
            "align_self": null,
            "height": null,
            "min_height": null,
            "padding": null,
            "grid_auto_rows": null,
            "grid_gap": null,
            "max_width": null,
            "order": null,
            "_view_module_version": "1.2.0",
            "grid_template_areas": null,
            "object_position": null,
            "object_fit": null,
            "grid_auto_columns": null,
            "margin": null,
            "display": null,
            "left": null
          }
        },
        "a57072d488814ffdae89b10a397477f8": {
          "model_module": "@jupyter-widgets/controls",
          "model_name": "DescriptionStyleModel",
          "state": {
            "_view_name": "StyleView",
            "_model_name": "DescriptionStyleModel",
            "description_width": "",
            "_view_module": "@jupyter-widgets/base",
            "_model_module_version": "1.5.0",
            "_view_count": null,
            "_view_module_version": "1.2.0",
            "_model_module": "@jupyter-widgets/controls"
          }
        },
        "1173a7881216485791fab33e2b029054": {
          "model_module": "@jupyter-widgets/base",
          "model_name": "LayoutModel",
          "state": {
            "_view_name": "LayoutView",
            "grid_template_rows": null,
            "right": null,
            "justify_content": null,
            "_view_module": "@jupyter-widgets/base",
            "overflow": null,
            "_model_module_version": "1.2.0",
            "_view_count": null,
            "flex_flow": null,
            "width": null,
            "min_width": null,
            "border": null,
            "align_items": null,
            "bottom": null,
            "_model_module": "@jupyter-widgets/base",
            "top": null,
            "grid_column": null,
            "overflow_y": null,
            "overflow_x": null,
            "grid_auto_flow": null,
            "grid_area": null,
            "grid_template_columns": null,
            "flex": null,
            "_model_name": "LayoutModel",
            "justify_items": null,
            "grid_row": null,
            "max_height": null,
            "align_content": null,
            "visibility": null,
            "align_self": null,
            "height": null,
            "min_height": null,
            "padding": null,
            "grid_auto_rows": null,
            "grid_gap": null,
            "max_width": null,
            "order": null,
            "_view_module_version": "1.2.0",
            "grid_template_areas": null,
            "object_position": null,
            "object_fit": null,
            "grid_auto_columns": null,
            "margin": null,
            "display": null,
            "left": null
          }
        },
        "9594cdaf9c244bf99330db339e134743": {
          "model_module": "@jupyter-widgets/controls",
          "model_name": "HBoxModel",
          "state": {
            "_view_name": "HBoxView",
            "_dom_classes": [],
            "_model_name": "HBoxModel",
            "_view_module": "@jupyter-widgets/controls",
            "_model_module_version": "1.5.0",
            "_view_count": null,
            "_view_module_version": "1.5.0",
            "box_style": "",
            "layout": "IPY_MODEL_f5aea79aea2745c69bdec72569d0899a",
            "_model_module": "@jupyter-widgets/controls",
            "children": [
              "IPY_MODEL_c7018d163b664e3dba4e06eba0946ce0",
              "IPY_MODEL_50b35021ad824a4e92be9135e7988ac4"
            ]
          }
        },
        "f5aea79aea2745c69bdec72569d0899a": {
          "model_module": "@jupyter-widgets/base",
          "model_name": "LayoutModel",
          "state": {
            "_view_name": "LayoutView",
            "grid_template_rows": null,
            "right": null,
            "justify_content": null,
            "_view_module": "@jupyter-widgets/base",
            "overflow": null,
            "_model_module_version": "1.2.0",
            "_view_count": null,
            "flex_flow": null,
            "width": null,
            "min_width": null,
            "border": null,
            "align_items": null,
            "bottom": null,
            "_model_module": "@jupyter-widgets/base",
            "top": null,
            "grid_column": null,
            "overflow_y": null,
            "overflow_x": null,
            "grid_auto_flow": null,
            "grid_area": null,
            "grid_template_columns": null,
            "flex": null,
            "_model_name": "LayoutModel",
            "justify_items": null,
            "grid_row": null,
            "max_height": null,
            "align_content": null,
            "visibility": null,
            "align_self": null,
            "height": null,
            "min_height": null,
            "padding": null,
            "grid_auto_rows": null,
            "grid_gap": null,
            "max_width": null,
            "order": null,
            "_view_module_version": "1.2.0",
            "grid_template_areas": null,
            "object_position": null,
            "object_fit": null,
            "grid_auto_columns": null,
            "margin": null,
            "display": null,
            "left": null
          }
        },
        "c7018d163b664e3dba4e06eba0946ce0": {
          "model_module": "@jupyter-widgets/controls",
          "model_name": "FloatProgressModel",
          "state": {
            "_view_name": "ProgressView",
            "style": "IPY_MODEL_4d996f4eb7d44fe883d4d734a122742f",
            "_dom_classes": [],
            "description": "100%",
            "_model_name": "FloatProgressModel",
            "bar_style": "success",
            "max": 947,
            "_view_module": "@jupyter-widgets/controls",
            "_model_module_version": "1.5.0",
            "value": 947,
            "_view_count": null,
            "_view_module_version": "1.5.0",
            "orientation": "horizontal",
            "min": 0,
            "description_tooltip": null,
            "_model_module": "@jupyter-widgets/controls",
            "layout": "IPY_MODEL_22aafd37dfcf4564a1326091e6c2e5bd"
          }
        },
        "50b35021ad824a4e92be9135e7988ac4": {
          "model_module": "@jupyter-widgets/controls",
          "model_name": "HTMLModel",
          "state": {
            "_view_name": "HTMLView",
            "style": "IPY_MODEL_f6803da2f02541dc8d4777377be2ef7d",
            "_dom_classes": [],
            "description": "",
            "_model_name": "HTMLModel",
            "placeholder": "​",
            "_view_module": "@jupyter-widgets/controls",
            "_model_module_version": "1.5.0",
            "value": " 947/947 [4:50:36&lt;00:00, 18.41s/it]",
            "_view_count": null,
            "_view_module_version": "1.5.0",
            "description_tooltip": null,
            "_model_module": "@jupyter-widgets/controls",
            "layout": "IPY_MODEL_5084c3fe02f14e26bee8cfb876e7955f"
          }
        },
        "4d996f4eb7d44fe883d4d734a122742f": {
          "model_module": "@jupyter-widgets/controls",
          "model_name": "ProgressStyleModel",
          "state": {
            "_view_name": "StyleView",
            "_model_name": "ProgressStyleModel",
            "description_width": "initial",
            "_view_module": "@jupyter-widgets/base",
            "_model_module_version": "1.5.0",
            "_view_count": null,
            "_view_module_version": "1.2.0",
            "bar_color": null,
            "_model_module": "@jupyter-widgets/controls"
          }
        },
        "22aafd37dfcf4564a1326091e6c2e5bd": {
          "model_module": "@jupyter-widgets/base",
          "model_name": "LayoutModel",
          "state": {
            "_view_name": "LayoutView",
            "grid_template_rows": null,
            "right": null,
            "justify_content": null,
            "_view_module": "@jupyter-widgets/base",
            "overflow": null,
            "_model_module_version": "1.2.0",
            "_view_count": null,
            "flex_flow": null,
            "width": null,
            "min_width": null,
            "border": null,
            "align_items": null,
            "bottom": null,
            "_model_module": "@jupyter-widgets/base",
            "top": null,
            "grid_column": null,
            "overflow_y": null,
            "overflow_x": null,
            "grid_auto_flow": null,
            "grid_area": null,
            "grid_template_columns": null,
            "flex": null,
            "_model_name": "LayoutModel",
            "justify_items": null,
            "grid_row": null,
            "max_height": null,
            "align_content": null,
            "visibility": null,
            "align_self": null,
            "height": null,
            "min_height": null,
            "padding": null,
            "grid_auto_rows": null,
            "grid_gap": null,
            "max_width": null,
            "order": null,
            "_view_module_version": "1.2.0",
            "grid_template_areas": null,
            "object_position": null,
            "object_fit": null,
            "grid_auto_columns": null,
            "margin": null,
            "display": null,
            "left": null
          }
        },
        "f6803da2f02541dc8d4777377be2ef7d": {
          "model_module": "@jupyter-widgets/controls",
          "model_name": "DescriptionStyleModel",
          "state": {
            "_view_name": "StyleView",
            "_model_name": "DescriptionStyleModel",
            "description_width": "",
            "_view_module": "@jupyter-widgets/base",
            "_model_module_version": "1.5.0",
            "_view_count": null,
            "_view_module_version": "1.2.0",
            "_model_module": "@jupyter-widgets/controls"
          }
        },
        "5084c3fe02f14e26bee8cfb876e7955f": {
          "model_module": "@jupyter-widgets/base",
          "model_name": "LayoutModel",
          "state": {
            "_view_name": "LayoutView",
            "grid_template_rows": null,
            "right": null,
            "justify_content": null,
            "_view_module": "@jupyter-widgets/base",
            "overflow": null,
            "_model_module_version": "1.2.0",
            "_view_count": null,
            "flex_flow": null,
            "width": null,
            "min_width": null,
            "border": null,
            "align_items": null,
            "bottom": null,
            "_model_module": "@jupyter-widgets/base",
            "top": null,
            "grid_column": null,
            "overflow_y": null,
            "overflow_x": null,
            "grid_auto_flow": null,
            "grid_area": null,
            "grid_template_columns": null,
            "flex": null,
            "_model_name": "LayoutModel",
            "justify_items": null,
            "grid_row": null,
            "max_height": null,
            "align_content": null,
            "visibility": null,
            "align_self": null,
            "height": null,
            "min_height": null,
            "padding": null,
            "grid_auto_rows": null,
            "grid_gap": null,
            "max_width": null,
            "order": null,
            "_view_module_version": "1.2.0",
            "grid_template_areas": null,
            "object_position": null,
            "object_fit": null,
            "grid_auto_columns": null,
            "margin": null,
            "display": null,
            "left": null
          }
        },
        "fede6894bd0b4e889a9c498018ac0700": {
          "model_module": "@jupyter-widgets/controls",
          "model_name": "HBoxModel",
          "state": {
            "_view_name": "HBoxView",
            "_dom_classes": [],
            "_model_name": "HBoxModel",
            "_view_module": "@jupyter-widgets/controls",
            "_model_module_version": "1.5.0",
            "_view_count": null,
            "_view_module_version": "1.5.0",
            "box_style": "",
            "layout": "IPY_MODEL_34825bde9a6e4dc5950b09a0bf5664f2",
            "_model_module": "@jupyter-widgets/controls",
            "children": [
              "IPY_MODEL_37502e5a89cd433f8ef0bdb99df9fec1",
              "IPY_MODEL_8729876eb137479ca9217215cedad8d0"
            ]
          }
        },
        "34825bde9a6e4dc5950b09a0bf5664f2": {
          "model_module": "@jupyter-widgets/base",
          "model_name": "LayoutModel",
          "state": {
            "_view_name": "LayoutView",
            "grid_template_rows": null,
            "right": null,
            "justify_content": null,
            "_view_module": "@jupyter-widgets/base",
            "overflow": null,
            "_model_module_version": "1.2.0",
            "_view_count": null,
            "flex_flow": null,
            "width": null,
            "min_width": null,
            "border": null,
            "align_items": null,
            "bottom": null,
            "_model_module": "@jupyter-widgets/base",
            "top": null,
            "grid_column": null,
            "overflow_y": null,
            "overflow_x": null,
            "grid_auto_flow": null,
            "grid_area": null,
            "grid_template_columns": null,
            "flex": null,
            "_model_name": "LayoutModel",
            "justify_items": null,
            "grid_row": null,
            "max_height": null,
            "align_content": null,
            "visibility": null,
            "align_self": null,
            "height": null,
            "min_height": null,
            "padding": null,
            "grid_auto_rows": null,
            "grid_gap": null,
            "max_width": null,
            "order": null,
            "_view_module_version": "1.2.0",
            "grid_template_areas": null,
            "object_position": null,
            "object_fit": null,
            "grid_auto_columns": null,
            "margin": null,
            "display": null,
            "left": null
          }
        },
        "37502e5a89cd433f8ef0bdb99df9fec1": {
          "model_module": "@jupyter-widgets/controls",
          "model_name": "FloatProgressModel",
          "state": {
            "_view_name": "ProgressView",
            "style": "IPY_MODEL_aed1f6c93ceb49ca95ea73fc531b1750",
            "_dom_classes": [],
            "description": "100%",
            "_model_name": "FloatProgressModel",
            "bar_style": "success",
            "max": 1178,
            "_view_module": "@jupyter-widgets/controls",
            "_model_module_version": "1.5.0",
            "value": 1178,
            "_view_count": null,
            "_view_module_version": "1.5.0",
            "orientation": "horizontal",
            "min": 0,
            "description_tooltip": null,
            "_model_module": "@jupyter-widgets/controls",
            "layout": "IPY_MODEL_ad9188c5095141c69f9b3c405e32f502"
          }
        },
        "8729876eb137479ca9217215cedad8d0": {
          "model_module": "@jupyter-widgets/controls",
          "model_name": "HTMLModel",
          "state": {
            "_view_name": "HTMLView",
            "style": "IPY_MODEL_0294848de554466e8d781facf9fd238c",
            "_dom_classes": [],
            "description": "",
            "_model_name": "HTMLModel",
            "placeholder": "​",
            "_view_module": "@jupyter-widgets/controls",
            "_model_module_version": "1.5.0",
            "value": " 1178/1178 [3:27:23&lt;00:00, 10.56s/it]",
            "_view_count": null,
            "_view_module_version": "1.5.0",
            "description_tooltip": null,
            "_model_module": "@jupyter-widgets/controls",
            "layout": "IPY_MODEL_0b83ee1f7bfd4220a23ae84447c17d66"
          }
        },
        "aed1f6c93ceb49ca95ea73fc531b1750": {
          "model_module": "@jupyter-widgets/controls",
          "model_name": "ProgressStyleModel",
          "state": {
            "_view_name": "StyleView",
            "_model_name": "ProgressStyleModel",
            "description_width": "initial",
            "_view_module": "@jupyter-widgets/base",
            "_model_module_version": "1.5.0",
            "_view_count": null,
            "_view_module_version": "1.2.0",
            "bar_color": null,
            "_model_module": "@jupyter-widgets/controls"
          }
        },
        "ad9188c5095141c69f9b3c405e32f502": {
          "model_module": "@jupyter-widgets/base",
          "model_name": "LayoutModel",
          "state": {
            "_view_name": "LayoutView",
            "grid_template_rows": null,
            "right": null,
            "justify_content": null,
            "_view_module": "@jupyter-widgets/base",
            "overflow": null,
            "_model_module_version": "1.2.0",
            "_view_count": null,
            "flex_flow": null,
            "width": null,
            "min_width": null,
            "border": null,
            "align_items": null,
            "bottom": null,
            "_model_module": "@jupyter-widgets/base",
            "top": null,
            "grid_column": null,
            "overflow_y": null,
            "overflow_x": null,
            "grid_auto_flow": null,
            "grid_area": null,
            "grid_template_columns": null,
            "flex": null,
            "_model_name": "LayoutModel",
            "justify_items": null,
            "grid_row": null,
            "max_height": null,
            "align_content": null,
            "visibility": null,
            "align_self": null,
            "height": null,
            "min_height": null,
            "padding": null,
            "grid_auto_rows": null,
            "grid_gap": null,
            "max_width": null,
            "order": null,
            "_view_module_version": "1.2.0",
            "grid_template_areas": null,
            "object_position": null,
            "object_fit": null,
            "grid_auto_columns": null,
            "margin": null,
            "display": null,
            "left": null
          }
        },
        "0294848de554466e8d781facf9fd238c": {
          "model_module": "@jupyter-widgets/controls",
          "model_name": "DescriptionStyleModel",
          "state": {
            "_view_name": "StyleView",
            "_model_name": "DescriptionStyleModel",
            "description_width": "",
            "_view_module": "@jupyter-widgets/base",
            "_model_module_version": "1.5.0",
            "_view_count": null,
            "_view_module_version": "1.2.0",
            "_model_module": "@jupyter-widgets/controls"
          }
        },
        "0b83ee1f7bfd4220a23ae84447c17d66": {
          "model_module": "@jupyter-widgets/base",
          "model_name": "LayoutModel",
          "state": {
            "_view_name": "LayoutView",
            "grid_template_rows": null,
            "right": null,
            "justify_content": null,
            "_view_module": "@jupyter-widgets/base",
            "overflow": null,
            "_model_module_version": "1.2.0",
            "_view_count": null,
            "flex_flow": null,
            "width": null,
            "min_width": null,
            "border": null,
            "align_items": null,
            "bottom": null,
            "_model_module": "@jupyter-widgets/base",
            "top": null,
            "grid_column": null,
            "overflow_y": null,
            "overflow_x": null,
            "grid_auto_flow": null,
            "grid_area": null,
            "grid_template_columns": null,
            "flex": null,
            "_model_name": "LayoutModel",
            "justify_items": null,
            "grid_row": null,
            "max_height": null,
            "align_content": null,
            "visibility": null,
            "align_self": null,
            "height": null,
            "min_height": null,
            "padding": null,
            "grid_auto_rows": null,
            "grid_gap": null,
            "max_width": null,
            "order": null,
            "_view_module_version": "1.2.0",
            "grid_template_areas": null,
            "object_position": null,
            "object_fit": null,
            "grid_auto_columns": null,
            "margin": null,
            "display": null,
            "left": null
          }
        },
        "cb87e144de0d45f086c7726ea246d89d": {
          "model_module": "@jupyter-widgets/controls",
          "model_name": "HBoxModel",
          "state": {
            "_view_name": "HBoxView",
            "_dom_classes": [],
            "_model_name": "HBoxModel",
            "_view_module": "@jupyter-widgets/controls",
            "_model_module_version": "1.5.0",
            "_view_count": null,
            "_view_module_version": "1.5.0",
            "box_style": "",
            "layout": "IPY_MODEL_2ad8562b874f406cb2901d68b873a7ad",
            "_model_module": "@jupyter-widgets/controls",
            "children": [
              "IPY_MODEL_a008a1af336547b29f6963df2dec4506",
              "IPY_MODEL_6647d61f23724b40a81020a2f1df562f"
            ]
          }
        },
        "2ad8562b874f406cb2901d68b873a7ad": {
          "model_module": "@jupyter-widgets/base",
          "model_name": "LayoutModel",
          "state": {
            "_view_name": "LayoutView",
            "grid_template_rows": null,
            "right": null,
            "justify_content": null,
            "_view_module": "@jupyter-widgets/base",
            "overflow": null,
            "_model_module_version": "1.2.0",
            "_view_count": null,
            "flex_flow": null,
            "width": null,
            "min_width": null,
            "border": null,
            "align_items": null,
            "bottom": null,
            "_model_module": "@jupyter-widgets/base",
            "top": null,
            "grid_column": null,
            "overflow_y": null,
            "overflow_x": null,
            "grid_auto_flow": null,
            "grid_area": null,
            "grid_template_columns": null,
            "flex": null,
            "_model_name": "LayoutModel",
            "justify_items": null,
            "grid_row": null,
            "max_height": null,
            "align_content": null,
            "visibility": null,
            "align_self": null,
            "height": null,
            "min_height": null,
            "padding": null,
            "grid_auto_rows": null,
            "grid_gap": null,
            "max_width": null,
            "order": null,
            "_view_module_version": "1.2.0",
            "grid_template_areas": null,
            "object_position": null,
            "object_fit": null,
            "grid_auto_columns": null,
            "margin": null,
            "display": null,
            "left": null
          }
        },
        "a008a1af336547b29f6963df2dec4506": {
          "model_module": "@jupyter-widgets/controls",
          "model_name": "FloatProgressModel",
          "state": {
            "_view_name": "ProgressView",
            "style": "IPY_MODEL_449a46b463924e8b8341b602abccf37a",
            "_dom_classes": [],
            "description": "100%",
            "_model_name": "FloatProgressModel",
            "bar_style": "success",
            "max": 1178,
            "_view_module": "@jupyter-widgets/controls",
            "_model_module_version": "1.5.0",
            "value": 1178,
            "_view_count": null,
            "_view_module_version": "1.5.0",
            "orientation": "horizontal",
            "min": 0,
            "description_tooltip": null,
            "_model_module": "@jupyter-widgets/controls",
            "layout": "IPY_MODEL_1c5f83bb0b4e4ef696c535030e86efdf"
          }
        },
        "6647d61f23724b40a81020a2f1df562f": {
          "model_module": "@jupyter-widgets/controls",
          "model_name": "HTMLModel",
          "state": {
            "_view_name": "HTMLView",
            "style": "IPY_MODEL_da91e3c2b87949be96c0315191c9c3d3",
            "_dom_classes": [],
            "description": "",
            "_model_name": "HTMLModel",
            "placeholder": "​",
            "_view_module": "@jupyter-widgets/controls",
            "_model_module_version": "1.5.0",
            "value": " 1178/1178 [1:51:34&lt;00:00,  5.68s/it]",
            "_view_count": null,
            "_view_module_version": "1.5.0",
            "description_tooltip": null,
            "_model_module": "@jupyter-widgets/controls",
            "layout": "IPY_MODEL_bff7984d879d447bb1beb229ef830ca6"
          }
        },
        "449a46b463924e8b8341b602abccf37a": {
          "model_module": "@jupyter-widgets/controls",
          "model_name": "ProgressStyleModel",
          "state": {
            "_view_name": "StyleView",
            "_model_name": "ProgressStyleModel",
            "description_width": "initial",
            "_view_module": "@jupyter-widgets/base",
            "_model_module_version": "1.5.0",
            "_view_count": null,
            "_view_module_version": "1.2.0",
            "bar_color": null,
            "_model_module": "@jupyter-widgets/controls"
          }
        },
        "1c5f83bb0b4e4ef696c535030e86efdf": {
          "model_module": "@jupyter-widgets/base",
          "model_name": "LayoutModel",
          "state": {
            "_view_name": "LayoutView",
            "grid_template_rows": null,
            "right": null,
            "justify_content": null,
            "_view_module": "@jupyter-widgets/base",
            "overflow": null,
            "_model_module_version": "1.2.0",
            "_view_count": null,
            "flex_flow": null,
            "width": null,
            "min_width": null,
            "border": null,
            "align_items": null,
            "bottom": null,
            "_model_module": "@jupyter-widgets/base",
            "top": null,
            "grid_column": null,
            "overflow_y": null,
            "overflow_x": null,
            "grid_auto_flow": null,
            "grid_area": null,
            "grid_template_columns": null,
            "flex": null,
            "_model_name": "LayoutModel",
            "justify_items": null,
            "grid_row": null,
            "max_height": null,
            "align_content": null,
            "visibility": null,
            "align_self": null,
            "height": null,
            "min_height": null,
            "padding": null,
            "grid_auto_rows": null,
            "grid_gap": null,
            "max_width": null,
            "order": null,
            "_view_module_version": "1.2.0",
            "grid_template_areas": null,
            "object_position": null,
            "object_fit": null,
            "grid_auto_columns": null,
            "margin": null,
            "display": null,
            "left": null
          }
        },
        "da91e3c2b87949be96c0315191c9c3d3": {
          "model_module": "@jupyter-widgets/controls",
          "model_name": "DescriptionStyleModel",
          "state": {
            "_view_name": "StyleView",
            "_model_name": "DescriptionStyleModel",
            "description_width": "",
            "_view_module": "@jupyter-widgets/base",
            "_model_module_version": "1.5.0",
            "_view_count": null,
            "_view_module_version": "1.2.0",
            "_model_module": "@jupyter-widgets/controls"
          }
        },
        "bff7984d879d447bb1beb229ef830ca6": {
          "model_module": "@jupyter-widgets/base",
          "model_name": "LayoutModel",
          "state": {
            "_view_name": "LayoutView",
            "grid_template_rows": null,
            "right": null,
            "justify_content": null,
            "_view_module": "@jupyter-widgets/base",
            "overflow": null,
            "_model_module_version": "1.2.0",
            "_view_count": null,
            "flex_flow": null,
            "width": null,
            "min_width": null,
            "border": null,
            "align_items": null,
            "bottom": null,
            "_model_module": "@jupyter-widgets/base",
            "top": null,
            "grid_column": null,
            "overflow_y": null,
            "overflow_x": null,
            "grid_auto_flow": null,
            "grid_area": null,
            "grid_template_columns": null,
            "flex": null,
            "_model_name": "LayoutModel",
            "justify_items": null,
            "grid_row": null,
            "max_height": null,
            "align_content": null,
            "visibility": null,
            "align_self": null,
            "height": null,
            "min_height": null,
            "padding": null,
            "grid_auto_rows": null,
            "grid_gap": null,
            "max_width": null,
            "order": null,
            "_view_module_version": "1.2.0",
            "grid_template_areas": null,
            "object_position": null,
            "object_fit": null,
            "grid_auto_columns": null,
            "margin": null,
            "display": null,
            "left": null
          }
        }
      }
    }
  },
  "cells": [
    {
      "cell_type": "markdown",
      "metadata": {
        "id": "ueuoo8GQ92fi"
      },
      "source": [
        "# 0.Building a VAR model in Python\n",
        "\n",
        "The procedure to build a VAR model involves the following steps:\n",
        "\n",
        "1. Analyze the time series characteristics\n",
        "2. Test for causation amongst the time series\n",
        "3. Test for stationarity\n",
        "4. Transform the series to make it stationary, if needed\n",
        "5. Find optimal order (p)\n",
        "6. Prepare training and test datasets\n",
        "7. Train the model\n",
        "8. Roll back the transformations, if any.\n",
        "9. Evaluate the model using test set\n",
        "10. Forecast to future\n"
      ]
    },
    {
      "cell_type": "code",
      "metadata": {
        "colab": {
          "base_uri": "https://localhost:8080/"
        },
        "id": "O25W1A8FFc-T",
        "outputId": "817ecf43-2cf0-42d0-9b0d-701f0bae679b"
      },
      "source": [
        "from google.colab import drive\n",
        "drive.mount('/content/drive')"
      ],
      "execution_count": null,
      "outputs": [
        {
          "output_type": "stream",
          "text": [
            "Mounted at /content/drive\n"
          ],
          "name": "stdout"
        }
      ]
    },
    {
      "cell_type": "code",
      "metadata": {
        "colab": {
          "base_uri": "https://localhost:8080/"
        },
        "id": "eXTk7HWi9czU",
        "outputId": "66683b16-5406-43ef-df37-b83695a1b000"
      },
      "source": [
        "pip install statsmodels"
      ],
      "execution_count": null,
      "outputs": [
        {
          "output_type": "stream",
          "text": [
            "Requirement already satisfied: statsmodels in /usr/local/lib/python3.7/dist-packages (0.10.2)\n",
            "Requirement already satisfied: scipy>=0.18 in /usr/local/lib/python3.7/dist-packages (from statsmodels) (1.4.1)\n",
            "Requirement already satisfied: patsy>=0.4.0 in /usr/local/lib/python3.7/dist-packages (from statsmodels) (0.5.1)\n",
            "Requirement already satisfied: numpy>=1.11 in /usr/local/lib/python3.7/dist-packages (from statsmodels) (1.19.5)\n",
            "Requirement already satisfied: pandas>=0.19 in /usr/local/lib/python3.7/dist-packages (from statsmodels) (1.1.5)\n",
            "Requirement already satisfied: six in /usr/local/lib/python3.7/dist-packages (from patsy>=0.4.0->statsmodels) (1.15.0)\n",
            "Requirement already satisfied: pytz>=2017.2 in /usr/local/lib/python3.7/dist-packages (from pandas>=0.19->statsmodels) (2018.9)\n",
            "Requirement already satisfied: python-dateutil>=2.7.3 in /usr/local/lib/python3.7/dist-packages (from pandas>=0.19->statsmodels) (2.8.1)\n"
          ],
          "name": "stdout"
        }
      ]
    },
    {
      "cell_type": "code",
      "metadata": {
        "id": "VV2N4j_09b-3",
        "colab": {
          "base_uri": "https://localhost:8080/"
        },
        "outputId": "a3b9b77d-d42e-4ec6-e0a6-b135acd1b40d"
      },
      "source": [
        "import pandas as pd\n",
        "import numpy as np\n",
        "import matplotlib.pyplot as plt\n",
        "%matplotlib inline\n",
        "\n",
        "# Import Statsmodels\n",
        "from statsmodels.tsa.api import VAR\n",
        "from statsmodels.tsa.stattools import adfuller\n",
        "from statsmodels.tools.eval_measures import rmse, aic\n",
        "\n",
        "\n",
        "import math\n",
        "import os\n",
        "import time\n",
        "from datetime import timedelta, datetime\n",
        "from dateutil import parser\n",
        "from tqdm import tqdm\n",
        "import copy\n",
        "from copy import deepcopy\n",
        "# from statsmodels.tsa.arima.model import ARIMA\n",
        "# from statsmodels.graphics.tsaplots import plot_acf, plot_pacf\n",
        "# from statsmodels.tsa.stattools import acf\n",
        "\n",
        "from fbprophet import Prophet\n",
        "import warnings\n",
        "import datetime\n",
        "from tqdm.notebook import tqdm\n",
        "import warnings\n",
        "warnings.filterwarnings(action='ignore')\n",
        "from collections import defaultdict\n",
        "import gc"
      ],
      "execution_count": null,
      "outputs": [
        {
          "output_type": "stream",
          "text": [
            "/usr/local/lib/python3.7/dist-packages/statsmodels/tools/_testing.py:19: FutureWarning: pandas.util.testing is deprecated. Use the functions in the public API at pandas.testing instead.\n",
            "  import pandas.util.testing as tm\n"
          ],
          "name": "stderr"
        }
      ]
    },
    {
      "cell_type": "code",
      "metadata": {
        "colab": {
          "base_uri": "https://localhost:8080/"
        },
        "id": "nDQksGCedw6t",
        "outputId": "9d16c4b6-af2f-4f13-9927-f0bed3020d08"
      },
      "source": [
        "cd drive/MyDrive/Dacon/BitTrader"
      ],
      "execution_count": null,
      "outputs": [
        {
          "output_type": "stream",
          "text": [
            "/content/drive/MyDrive/Dacon/BitTrader\n"
          ],
          "name": "stdout"
        }
      ]
    },
    {
      "cell_type": "code",
      "metadata": {
        "id": "zD66e_8opc81"
      },
      "source": [
        "train_x_df = pd.read_csv( \"./data/train_x_df.csv\")\n",
        "train_y_df = pd.read_csv( \"./data/train_y_df.csv\")\n",
        "test_x_df = pd.read_csv( \"./data/test_x_df.csv\")\n",
        "submission = pd.read_csv(\"./data/sample_submission.csv\")"
      ],
      "execution_count": null,
      "outputs": []
    },
    {
      "cell_type": "code",
      "metadata": {
        "colab": {
          "base_uri": "https://localhost:8080/"
        },
        "id": "WGcZXVawJwIk",
        "outputId": "0b88fa70-f920-4a7b-8542-d59f376ef813"
      },
      "source": [
        "set(train_x_df.coin_index)"
      ],
      "execution_count": null,
      "outputs": [
        {
          "output_type": "execute_result",
          "data": {
            "text/plain": [
              "{0, 1, 2, 3, 4, 5, 6, 7, 8, 9}"
            ]
          },
          "metadata": {
            "tags": []
          },
          "execution_count": 6
        }
      ]
    },
    {
      "cell_type": "markdown",
      "metadata": {
        "id": "GbTCWsCOmy09"
      },
      "source": [
        "# 4.Data Preprocessing"
      ]
    },
    {
      "cell_type": "code",
      "metadata": {
        "id": "Y5gtFowaXs04"
      },
      "source": [
        "def adjust(val, length= 6): return str(val).ljust(length)"
      ],
      "execution_count": null,
      "outputs": []
    },
    {
      "cell_type": "code",
      "metadata": {
        "id": "h3SHH56X8tEA"
      },
      "source": [
        "def df2d_to_array3d(df_2d):\n",
        "    # 안쓰고 싶은 feature가 있다면 다음 목록에서 빼기\n",
        "    features = ['coin_index', 'open', 'high', 'low', 'close','volume', 'quote_av', 'trades', 'tb_base_av', 'tb_quote_av']\n",
        "    # 입력 받은 2차원 데이터 프레임을 3차원 numpy array로 변경하는 함수\n",
        "    nfeatures = len(features)\n",
        "    time_size = len(set(df_2d.time))\n",
        "    sample_size = len(set(df_2d.sample_id))\n",
        "    sample_index = set(train_x_df.sample_id)\n",
        "    array_3d = df_2d.loc[:,features].values.reshape([sample_size, time_size, nfeatures])\n",
        "    return array_3d"
      ],
      "execution_count": null,
      "outputs": []
    },
    {
      "cell_type": "code",
      "metadata": {
        "id": "0Z5AVHRy2tkT"
      },
      "source": [
        "\n",
        "def df_var(arr,idx):\n",
        "    start_time = '2021-01-31 00:00:00'\n",
        "    start_dt = datetime.datetime.strptime(start_time, '%Y-%m-%d %H:%M:%S')\n",
        "\n",
        "    features = ['coin_index', 'open', 'high', 'low', 'close','volume', 'quote_av', 'trades', 'tb_base_av', 'tb_quote_av']\n",
        "    # 1 : open, \n",
        "    # 2 : high, \n",
        "    # 3 : low, ...\n",
        "    feature_dict = {i:feature for i,feature in enumerate(features)}\n",
        "\n",
        "    df = pd.DataFrame(index=[start_dt + datetime.timedelta(minutes = time_min) for time_min in np.arange(1, arr.shape[1]+1).tolist()])\n",
        "    df.index.name = 'date'\n",
        "\n",
        "    for feature_idx in range(1,arr.shape[-1]):\n",
        "        x_series = arr[idx,:,feature_idx]\n",
        "        df[feature_dict[feature_idx]] = x_series.tolist()\n",
        "    return df"
      ],
      "execution_count": null,
      "outputs": []
    },
    {
      "cell_type": "code",
      "metadata": {
        "id": "7cg_Udc0WKKl"
      },
      "source": [
        "## 정상성을 판단하여 차분해야하는지 검정해주는 함수\n",
        "def adfuller_test(series, signif=0.05, name='', verbose=False):\n",
        "    \"\"\"Perform ADFuller to test for Stationarity of given series and print report\"\"\"\n",
        "    r = adfuller(series, autolag='AIC')\n",
        "    output = {'test_statistic':round(r[0], 4), 'pvalue':round(r[1], 4), 'n_lags':round(r[2], 4), 'n_obs':r[3]}\n",
        "    p_value = output['pvalue'] \n",
        "    def adjust(val, length= 6): return str(val).ljust(length)\n",
        "\n",
        "    # # Print Summary\n",
        "    # print(f'    Augmented Dickey-Fuller Test on \"{name}\"', \"\\n   \", '-'*47)\n",
        "    # print(f' Null Hypothesis: Data has unit root. Non-Stationary.')\n",
        "    # print(f' Significance Level    = {signif}')\n",
        "    # print(f' Test Statistic        = {output[\"test_statistic\"]}')\n",
        "    # print(f' No. Lags Chosen       = {output[\"n_lags\"]}')\n",
        "\n",
        "    # for key,val in r[4].items():\n",
        "    #     print(f' Critical value {adjust(key)} = {round(val, 3)}')\n",
        "\n",
        "    # if p_value <= signif:\n",
        "    #     print(f\" => P-Value = {p_value}. Rejecting Null Hypothesis.\")\n",
        "    #     print(f\" => Series is Stationary.\")\n",
        "    # else:\n",
        "    #     print(f\" => P-Value = {p_value}. Weak evidence to reject the Null Hypothesis.\")\n",
        "    #     print(f\" => Series is Non-Stationary.\")    \n",
        "    return p_value"
      ],
      "execution_count": null,
      "outputs": []
    },
    {
      "cell_type": "code",
      "metadata": {
        "id": "_-RqhTDzZGtY"
      },
      "source": [
        "def invert_transformation(df_train, df_forecast):\n",
        "    df_fc = pd.DataFrame()\n",
        "    for col in df_forecast.columns:\n",
        "        if col.endswith('_1d'):\n",
        "            df_fc[col.replace('_1d','_forecast')] = df_train[col.replace('_1d','')].iloc[-1] + df_forecast[col].cumsum()\n",
        "        else:\n",
        "            df_fc[f'{col}_forecast'] = df_forecast[col]\n",
        "    return df_fc"
      ],
      "execution_count": null,
      "outputs": []
    },
    {
      "cell_type": "code",
      "metadata": {
        "id": "MTemjT36tCvV"
      },
      "source": [
        "def forecast_accuracy(forecast, actual):\n",
        "    mae = np.mean(np.abs(forecast - actual))    # MAE\n",
        "    rmse = np.mean((forecast - actual)**2)**.5  # RMSE\n",
        "    return {\n",
        "            'mae': mae, \n",
        "            'rmse':rmse,\n",
        "            }"
      ],
      "execution_count": null,
      "outputs": []
    },
    {
      "cell_type": "code",
      "metadata": {
        "colab": {
          "base_uri": "https://localhost:8080/"
        },
        "id": "cdBjjfeFBTLz",
        "outputId": "6eb3d479-9280-4381-80db-16e0602d1759"
      },
      "source": [
        "gc.collect()"
      ],
      "execution_count": null,
      "outputs": [
        {
          "output_type": "execute_result",
          "data": {
            "text/plain": [
              "500"
            ]
          },
          "metadata": {
            "tags": []
          },
          "execution_count": 13
        }
      ]
    },
    {
      "cell_type": "code",
      "metadata": {
        "colab": {
          "base_uri": "https://localhost:8080/"
        },
        "id": "XyMCfiI6Yev8",
        "outputId": "c4a00c5e-dc03-41b1-be20-461408c825c2"
      },
      "source": [
        "# coin index별 샘플 갯수\n",
        "train_x_df.groupby('coin_index').sample_id.apply(lambda x: len(set(x)))"
      ],
      "execution_count": null,
      "outputs": [
        {
          "output_type": "execute_result",
          "data": {
            "text/plain": [
              "coin_index\n",
              "0     907\n",
              "1     382\n",
              "2     101\n",
              "3     129\n",
              "4     930\n",
              "5     545\n",
              "6    1065\n",
              "7     947\n",
              "8    1178\n",
              "9    1178\n",
              "Name: sample_id, dtype: int64"
            ]
          },
          "metadata": {
            "tags": []
          },
          "execution_count": 14
        }
      ]
    },
    {
      "cell_type": "code",
      "metadata": {
        "colab": {
          "base_uri": "https://localhost:8080/",
          "height": 939,
          "referenced_widgets": [
            "f9a434b6adaf4321ba478dfa3c317e6b",
            "9a2e1b9f47b743c393020331aefe6563",
            "e91cddacf4134b95954c08ada6c421e2",
            "ca7db2e03e8441b2b5e02725894da177",
            "6f125946ed0c44eb8b073683b724fa89",
            "4c247dd93e0748bfa1a39ccdeb6cbdc6",
            "512702a2767c467f9cf0b5ad98bdeeb9",
            "acc3ed4c72e042739c773e560cfdcd94",
            "6d6c915d77304d36b56dc98bc4afd6a9",
            "28623939137248528dc1dca2fb9aab3d",
            "5c202274e4fb4b598f6d274f16cb1d3e",
            "3e4f864b94b449e0bc1edacefda3c0bb",
            "e7e74b6701d843598c93d7313fd55354",
            "a9904ae11ecd4ac08b6670f736891731",
            "01c11deb257a4f5fb584130ca6cd1c33",
            "0176305a999348a4b79f75367cbb4f14",
            "d3b53af92af94c82854fd97f89b9e199",
            "a87dfc41c99e4c04a0beaf16de213148",
            "186cab9af0e2492cb01f27622c96b22b",
            "f369a46c67d041d1891b3ad40a82754e",
            "5efeb4318af04dc49f753e99c096007b",
            "54af72d3003a46f789e31e86fd48d3d1",
            "1bb4b65feb004eaba94e813bdaa4a384",
            "fc78598ed8ff491b90384acea47af055",
            "2048781792d5443895b963a38fd55a1b",
            "04ab853564c4433ea1dd59d8b6364597",
            "81565183c94b4538ad4eed352ff5e764",
            "7db401083ce14dfe9b3cd544fc6fb709",
            "e6943eb32d5541c2b00921833cd37cb3",
            "2a4b05dbc2bd433e9ffe084410908261",
            "e31d8e6047424757b4f0d8b7d8904beb",
            "9a4eff169e544727b6b2cbe5a46d061c",
            "854a2ee8f4f64604aa7b43b95fb8f7aa",
            "b3badd8a50344b5a8f8ccbcb5718cd55",
            "612edd93879e426fae53ab4af47d2aea",
            "6de25a767d3d44478bda09a5311cd77e",
            "a436025a77214d1292346d88d5e78c7b",
            "b84226fd4bdb43308888706fb112c7c5",
            "160a0a9b34fa4612a5f47752a74dd8ac",
            "5d1034d51057484f81f5a3d8f5093bef",
            "aa77759e1cc04ea1858ebb5aa4e052af",
            "317e52c0565b49b0ada6534448af6a7f",
            "1a075e74bad14a84b0b84e25dc7eaeb6",
            "c07a35b8728f48fc9d7e5b27882d5d16",
            "3b3f1f2a8efc4511917d0bcc63a86d2f",
            "3d1078926c5d41e0ba429a8a9d0385ad",
            "dc42b5837c0e4125ae101c8e1b4a9665",
            "95b02472ef81440ebea9f96a8e1a64a2",
            "7ec0c12a5a2142898b284d53186b5dd9",
            "79341df24f2748c09db0c212bad6e44d",
            "46b4902c91044d798688647f58663f41",
            "c021f927408b4c4db1870d46d83de94d",
            "969b92408ee540dc86c9e6541ce7b067",
            "81002c7998884bf8a42abd83db2124a2",
            "764b1f559eff43d1a7a894ad1ac7dbb4",
            "aa93e6dca42a4be8a94af15539c292ed",
            "d07728b7bc264e319a706152e4df80db",
            "512f0bc7fb34445a9f683dca2dfa4386",
            "97c78c9f849449798e8b1f2f4a91a16a",
            "2687b7febe25418d9cd9ac67e0796ca5",
            "910cb2a96a904f878afd2afe8aa8e32c",
            "24d2614b4c5148999fd87bf6487a9a1a",
            "a57072d488814ffdae89b10a397477f8",
            "1173a7881216485791fab33e2b029054",
            "9594cdaf9c244bf99330db339e134743",
            "f5aea79aea2745c69bdec72569d0899a",
            "c7018d163b664e3dba4e06eba0946ce0",
            "50b35021ad824a4e92be9135e7988ac4",
            "4d996f4eb7d44fe883d4d734a122742f",
            "22aafd37dfcf4564a1326091e6c2e5bd",
            "f6803da2f02541dc8d4777377be2ef7d",
            "5084c3fe02f14e26bee8cfb876e7955f",
            "fede6894bd0b4e889a9c498018ac0700",
            "34825bde9a6e4dc5950b09a0bf5664f2",
            "37502e5a89cd433f8ef0bdb99df9fec1",
            "8729876eb137479ca9217215cedad8d0",
            "aed1f6c93ceb49ca95ea73fc531b1750",
            "ad9188c5095141c69f9b3c405e32f502",
            "0294848de554466e8d781facf9fd238c",
            "0b83ee1f7bfd4220a23ae84447c17d66",
            "cb87e144de0d45f086c7726ea246d89d",
            "2ad8562b874f406cb2901d68b873a7ad",
            "a008a1af336547b29f6963df2dec4506",
            "6647d61f23724b40a81020a2f1df562f",
            "449a46b463924e8b8341b602abccf37a",
            "1c5f83bb0b4e4ef696c535030e86efdf",
            "da91e3c2b87949be96c0315191c9c3d3",
            "bff7984d879d447bb1beb229ef830ca6"
          ]
        },
        "id": "2RoFh9GDJSeh",
        "outputId": "6795bec5-f372-405b-d91f-dd1d1131d534"
      },
      "source": [
        "final_predict_collections_per_coin = defaultdict(list)  # 샘플아이디 각각을 key로 가짐, value : 각 모델들의 해당 샘플아이디에 대한 예측결과 array들을 모아놓음\n",
        "# 얘는 각 샘플별로 수많은 prediction 결과들을 가지고 있게 되는 최종 결과가 될 것임.\n",
        "# 각 샘플 아이디 내부의 여러 모델들로부터 나온 여러 prediction들을 평균냄으로써 앙상블 결과를 각 샘플아이디 별로 가지게 됨\n",
        "# final_predict_collections_per_coin 이 dictionary의 각각 샘플 아이디 별로 np.mean(axis=0) 해주면 됨\n",
        "\n",
        "\n",
        "for coin_index in tqdm(range(0,10)):\n",
        "    ## coin_index별로 train 뽑기\n",
        "    # coin_index 는 0~9\n",
        "    # coin_index = 0\n",
        "\n",
        "    train_x_array = df2d_to_array3d(train_x_df)\n",
        "    train_y_array = df2d_to_array3d(train_y_df)\n",
        "    train_array = np.concatenate([train_x_array,train_y_array],axis=1)\n",
        "\n",
        "    # 테스트셋\n",
        "    test_x_array = df2d_to_array3d(test_x_df)\n",
        "    test_sample_idx_current_coin = list(set(test_x_df.loc[test_x_df.coin_index==coin_index,:].sample_id))    # 테스트셋 중 현재 코인인덱스에 해당하는 샘플아이디들을 모아놓은 리스트\n",
        "\n",
        "\n",
        "    print('='*100)\n",
        "    print(f'coin_index : {coin_index}')\n",
        "\n",
        "    # groupby_coin_last_open_value = train_x_df.loc[train_x_df.coin_index==coin_index,:].groupby(by='sample_id').open.apply(lambda x: list(x)[-2])\n",
        "    # last_open_max_index = groupby_coin_last_open_value.index[groupby_coin_last_open_value.argmax()]\n",
        "    idxes = train_x_df.loc[train_x_df.coin_index==coin_index,:].groupby(by='sample_id').open.max().index.tolist()\n",
        "    \n",
        "    # idxes 모두에 대해서 모델을 적합하기에는 시간이 너무 오래걸려서 일부만 (5%정도)만 모델을 만들었습니다.\n",
        "    # import random\n",
        "    # random.seed(123)\n",
        "    # idxes = random.sample(idxes,len(idxes)//20)\n",
        "    # nsamples = 10\n",
        "    # idxes = random.sample(idxes,nsamples)\n",
        "\n",
        "\n",
        "    # print(f\"coin_index=={coin_index}의 샘플들 중 모델링할 샘플은 {len(idxes)}개입니다\")\n",
        "    # idxes = range(train_array.shape[0])\n",
        "    for sample_id in tqdm(idxes):\n",
        "        # print(f'sample_id : {sample_id}')\n",
        "\n",
        "        ## 원하는 sample_id로만 train_x & y 를 구축\n",
        "        df = df_var(train_array,sample_id)\n",
        "\n",
        "        # train의 y 120개를 Validation set으로 두고 모델링을 해보자.\n",
        "        nobs = 120  \n",
        "        df_train, df_test = df[:-nobs], df[-nobs:]\n",
        "\n",
        "        # ADF Test on each column\n",
        "        adf_pvalue_dict={}\n",
        "\n",
        "        for name, column in df_train.iteritems():\n",
        "            p_value = adfuller_test(series=column, name=column.name)\n",
        "            adf_pvalue_dict[name]=p_value\n",
        "\n",
        "        # 귀무가설 기각 못한 : Non-stationary features\n",
        "        need_diff_features_1d = [name for name,pvalue in adf_pvalue_dict.items() if pvalue>0.05]\n",
        "        # print(f'need_diff_features_1d : {need_diff_features_1d}')\n",
        "\n",
        "        ## 1차 차분\n",
        "        # 1st difference\n",
        "        # non stationary feature들에 대해서만 차분을 진행해보자.\n",
        "        df_differenced = deepcopy(df_train)\n",
        "        df_differenced.loc[:,need_diff_features_1d] = df_differenced.loc[:,need_diff_features_1d].diff()\n",
        "        df_differenced = df_differenced.dropna()\n",
        "        # After 1st Differences, One More ADF Test on each column\n",
        "        adf_pvalue_dict={}\n",
        "        # ADF Test on each column of 1st Differences Dataframe\n",
        "        for name, column in df_differenced.iteritems():\n",
        "            p_value = adfuller_test(column, name=column.name)\n",
        "            adf_pvalue_dict[name]=p_value\n",
        "            # print('\\n')\n",
        "\n",
        "        ## 2차 차분\n",
        "        # 1차 차분 뒤에도 귀무가설 기각 못한 : Non-stationary features\n",
        "        # need_diff_features_2d = [name for name,pvalue in adf_pvalue_dict.items() if pvalue>0.05]\n",
        "        # print(need_diff_features_2d)   # 이제 없음 # 차분 1번만에 모두 stationary\n",
        "        # df_differenced.loc[:,need_diff_features_2d] = df_differenced.loc[:,need_diff_features_2d].diff()\n",
        "        # df_differenced = df_differenced.dropna()\n",
        "\n",
        "        ## How to Select the Order (P) of VAR model\n",
        "        # 최대 p의 범위는 120으로 지정해놓고 Least AIC\n",
        "        model = VAR(df_differenced)\n",
        "        # print('='*20,'Choose P','='*20)\n",
        "        # AIC_dict = {}\n",
        "        maxlags = 60*2\n",
        "\n",
        "        #################################################\n",
        "        ########## 120으로 그냥 통일해서 해봤음 ############\n",
        "        ### 가장 적절한 P 값을 찾는 부분\n",
        "\n",
        "        # for i in range(1,maxlags+1):\n",
        "        #     result = model.fit(i)\n",
        "        #     AIC_dict[i] = result.aic\n",
        "        ## 이부분의 시간 소요가 너무 많다..\n",
        "\n",
        "        top_idx = 0 # top0 : AIC 제일 좋을 때의 p값 (AIC가 제일 작을 때)\n",
        "\n",
        "        # Train the VAR Model of Selected Order(p)\n",
        "        # best_AIC_p = sorted(AIC_dict.items(),key=lambda x: x[-1])[top_idx][0]\n",
        "        # best_p = best_AIC_p\n",
        "        best_p = 120\n",
        "        model_fitted = model.fit(best_p)\n",
        "\n",
        "        ## Check for Serial Correlation of Residuals (Errors) using Durbin Watson Statistic\n",
        "        ## 더빈 왓슨 통계량은 0 ~ 4사이의 값을 갖을 수 있음\n",
        "        #0에 가까울수록 → 양의 상관관계\n",
        "        #4에 가까울수록 → 음의 상관관계\n",
        "        #2에 가까울수록 → 오차항의 자기상관이 없음\n",
        "        # lags = 120\n",
        "        # from statsmodels.stats.stattools import durbin_watson\n",
        "        # out = durbin_watson(model_fitted.resid)\n",
        "\n",
        "        # for col, val in zip(df.columns, out):\n",
        "        #     print(adjust(col), ':', round(val, 2))\n",
        "\n",
        "        ## How to Forecast VAR model using statsmodels\n",
        "        # Get the lag order\n",
        "        lag_order = model_fitted.k_ar\n",
        "\n",
        "        ## Input data for forecasting\n",
        "        # forecast_input = df_differenced.values[-lag_order:]\n",
        "        # print(forecast_input.shape)\n",
        "\n",
        "\n",
        "        #### Valid Forecast ####\n",
        "        diff_column_names = [f'{c}_1d' if c in need_diff_features_1d else c for c in df.columns]\n",
        "        # fc = model_fitted.forecast(y=forecast_input, steps=nobs)\n",
        "        # df_forecast = pd.DataFrame(fc, index=df.index[-nobs:], columns=diff_column_names)\n",
        "\n",
        "        ### 역변환 (차분을 했다면)\n",
        "        # df_results = invert_transformation(df_train, df_forecast)\n",
        "\n",
        "        # validation 정확도 보기\n",
        "        # val_accuracy_prod = forecast_accuracy(df_results[f'open_forecast'].values, df_test['open'])\n",
        "        # val_mae = val_accuracy_prod['mae']\n",
        "        # val_rmse = val_accuracy_prod['rmse']\n",
        "        # if val_rmse > 0.5: break\n",
        "\n",
        "        # model들을 해당 coin_index를 key로 가지는 dict에 append로 저장\n",
        "\n",
        "\n",
        "        # print(f\"sample_id=={sample_id}로 학습시킨 모델로 coin_index=={coin_index}인 test set의 샘플들에 각각 prediction을 실시합니다\")\n",
        "        # print(f\"best_p : {best_p} Model입니다.\")\n",
        "        # coin_index == coin_index에 대한 모델이므로 해당 coin index의 test x들만 뽑아서 각각 prediction 결과를 만든다.\n",
        "        for test_sample_idx in test_sample_idx_current_coin:\n",
        "        # for test_sample_idx in tqdm(test_sample_idx_current_coin):\n",
        "            test_x_idx_var = df_var(test_x_array,test_sample_idx)\n",
        "            test_x_differenced = deepcopy(test_x_idx_var)\n",
        "            test_x_differenced.loc[:,need_diff_features_1d] = test_x_differenced.loc[:,need_diff_features_1d].diff()\n",
        "            test_x_differenced.dropna(inplace=True)\n",
        "            test_forecast_input = test_x_differenced.values[-lag_order:]\n",
        "            test_fc = model_fitted.forecast(y=test_forecast_input, steps=nobs)\n",
        "            test_forecast = pd.DataFrame(test_fc, index=range(nobs), columns=diff_column_names) # 예측결과 test_fc를 test_forecast라는 데이터프레임화 (역변환 인풋을 위해)\n",
        "            test_results = invert_transformation(test_x_idx_var, test_forecast)['open_forecast'] # 예측결과 역변환, 우리의 타겟인 open_forecast만 뽑습니다.\n",
        "            test_results = np.array(test_results) # coin_index 내의 어떤 한 샘플 아이디로 모델적합을 했고,  test predict를 한 결과이다.\n",
        "\n",
        "            final_predict_collections_per_coin[test_sample_idx].append(test_results) # 어떤 한 샘플 아이디의 prediction 결과를 해당 샘플 아이디에 append \n",
        "                                                                                    # (여러 모델들의 예측결과가 차곡차곡 모일 것이다.)"
      ],
      "execution_count": null,
      "outputs": [
        {
          "output_type": "display_data",
          "data": {
            "application/vnd.jupyter.widget-view+json": {
              "model_id": "f9a434b6adaf4321ba478dfa3c317e6b",
              "version_minor": 0,
              "version_major": 2
            },
            "text/plain": [
              "HBox(children=(FloatProgress(value=0.0, max=10.0), HTML(value='')))"
            ]
          },
          "metadata": {
            "tags": []
          }
        },
        {
          "output_type": "stream",
          "text": [
            "====================================================================================================\n",
            "coin_index : 0\n"
          ],
          "name": "stdout"
        },
        {
          "output_type": "display_data",
          "data": {
            "application/vnd.jupyter.widget-view+json": {
              "model_id": "6d6c915d77304d36b56dc98bc4afd6a9",
              "version_minor": 0,
              "version_major": 2
            },
            "text/plain": [
              "HBox(children=(FloatProgress(value=0.0, max=907.0), HTML(value='')))"
            ]
          },
          "metadata": {
            "tags": []
          }
        },
        {
          "output_type": "stream",
          "text": [
            "\n",
            "====================================================================================================\n",
            "coin_index : 1\n"
          ],
          "name": "stdout"
        },
        {
          "output_type": "display_data",
          "data": {
            "application/vnd.jupyter.widget-view+json": {
              "model_id": "d3b53af92af94c82854fd97f89b9e199",
              "version_minor": 0,
              "version_major": 2
            },
            "text/plain": [
              "HBox(children=(FloatProgress(value=0.0, max=382.0), HTML(value='')))"
            ]
          },
          "metadata": {
            "tags": []
          }
        },
        {
          "output_type": "stream",
          "text": [
            "\n",
            "====================================================================================================\n",
            "coin_index : 2\n"
          ],
          "name": "stdout"
        },
        {
          "output_type": "display_data",
          "data": {
            "application/vnd.jupyter.widget-view+json": {
              "model_id": "2048781792d5443895b963a38fd55a1b",
              "version_minor": 0,
              "version_major": 2
            },
            "text/plain": [
              "HBox(children=(FloatProgress(value=0.0, max=101.0), HTML(value='')))"
            ]
          },
          "metadata": {
            "tags": []
          }
        },
        {
          "output_type": "stream",
          "text": [
            "\n",
            "====================================================================================================\n",
            "coin_index : 3\n"
          ],
          "name": "stdout"
        },
        {
          "output_type": "display_data",
          "data": {
            "application/vnd.jupyter.widget-view+json": {
              "model_id": "854a2ee8f4f64604aa7b43b95fb8f7aa",
              "version_minor": 0,
              "version_major": 2
            },
            "text/plain": [
              "HBox(children=(FloatProgress(value=0.0, max=129.0), HTML(value='')))"
            ]
          },
          "metadata": {
            "tags": []
          }
        },
        {
          "output_type": "stream",
          "text": [
            "\n",
            "====================================================================================================\n",
            "coin_index : 4\n"
          ],
          "name": "stdout"
        },
        {
          "output_type": "display_data",
          "data": {
            "application/vnd.jupyter.widget-view+json": {
              "model_id": "aa77759e1cc04ea1858ebb5aa4e052af",
              "version_minor": 0,
              "version_major": 2
            },
            "text/plain": [
              "HBox(children=(FloatProgress(value=0.0, max=930.0), HTML(value='')))"
            ]
          },
          "metadata": {
            "tags": []
          }
        },
        {
          "output_type": "stream",
          "text": [
            "\n",
            "====================================================================================================\n",
            "coin_index : 5\n"
          ],
          "name": "stdout"
        },
        {
          "output_type": "display_data",
          "data": {
            "application/vnd.jupyter.widget-view+json": {
              "model_id": "7ec0c12a5a2142898b284d53186b5dd9",
              "version_minor": 0,
              "version_major": 2
            },
            "text/plain": [
              "HBox(children=(FloatProgress(value=0.0, max=545.0), HTML(value='')))"
            ]
          },
          "metadata": {
            "tags": []
          }
        },
        {
          "output_type": "stream",
          "text": [
            "\n",
            "====================================================================================================\n",
            "coin_index : 6\n"
          ],
          "name": "stdout"
        },
        {
          "output_type": "display_data",
          "data": {
            "application/vnd.jupyter.widget-view+json": {
              "model_id": "d07728b7bc264e319a706152e4df80db",
              "version_minor": 0,
              "version_major": 2
            },
            "text/plain": [
              "HBox(children=(FloatProgress(value=0.0, max=1065.0), HTML(value='')))"
            ]
          },
          "metadata": {
            "tags": []
          }
        },
        {
          "output_type": "stream",
          "text": [
            "\n",
            "====================================================================================================\n",
            "coin_index : 7\n"
          ],
          "name": "stdout"
        },
        {
          "output_type": "display_data",
          "data": {
            "application/vnd.jupyter.widget-view+json": {
              "model_id": "9594cdaf9c244bf99330db339e134743",
              "version_minor": 0,
              "version_major": 2
            },
            "text/plain": [
              "HBox(children=(FloatProgress(value=0.0, max=947.0), HTML(value='')))"
            ]
          },
          "metadata": {
            "tags": []
          }
        },
        {
          "output_type": "stream",
          "text": [
            "\n",
            "====================================================================================================\n",
            "coin_index : 8\n"
          ],
          "name": "stdout"
        },
        {
          "output_type": "display_data",
          "data": {
            "application/vnd.jupyter.widget-view+json": {
              "model_id": "fede6894bd0b4e889a9c498018ac0700",
              "version_minor": 0,
              "version_major": 2
            },
            "text/plain": [
              "HBox(children=(FloatProgress(value=0.0, max=1178.0), HTML(value='')))"
            ]
          },
          "metadata": {
            "tags": []
          }
        },
        {
          "output_type": "stream",
          "text": [
            "\n",
            "====================================================================================================\n",
            "coin_index : 9\n"
          ],
          "name": "stdout"
        },
        {
          "output_type": "display_data",
          "data": {
            "application/vnd.jupyter.widget-view+json": {
              "model_id": "cb87e144de0d45f086c7726ea246d89d",
              "version_minor": 0,
              "version_major": 2
            },
            "text/plain": [
              "HBox(children=(FloatProgress(value=0.0, max=1178.0), HTML(value='')))"
            ]
          },
          "metadata": {
            "tags": []
          }
        },
        {
          "output_type": "stream",
          "text": [
            "\n",
            "\n"
          ],
          "name": "stdout"
        }
      ]
    },
    {
      "cell_type": "code",
      "metadata": {
        "colab": {
          "base_uri": "https://localhost:8080/"
        },
        "id": "7waFGJcPge-Z",
        "outputId": "7894beae-e732-4282-a2f2-00c953e3d802"
      },
      "source": [
        "print(max(final_predict_collections_per_coin.keys()))\n",
        "print(min(final_predict_collections_per_coin.keys()))\n",
        "print(len(final_predict_collections_per_coin.keys()))"
      ],
      "execution_count": null,
      "outputs": [
        {
          "output_type": "stream",
          "text": [
            "528\n",
            "0\n",
            "529\n"
          ],
          "name": "stdout"
        }
      ]
    },
    {
      "cell_type": "markdown",
      "metadata": {
        "id": "4Iy1ReOjwIUo"
      },
      "source": [
        "# 17.Submission"
      ]
    },
    {
      "cell_type": "code",
      "metadata": {
        "colab": {
          "base_uri": "https://localhost:8080/",
          "height": 402
        },
        "id": "CfJJebeaiy64",
        "outputId": "8385cdb6-5f67-4799-eefe-ef9ea4375f1f"
      },
      "source": [
        "# 여러개의 모델 output들을 지니고 있는 샘플 아이디 각각에 대해서 np.mean을 적용함으로써 앙상블결과 도출\n",
        "prediction_after_ensemble_per_test_id = {k:np.mean(np.array(v),axis=0) for k,v in final_predict_collections_per_coin.items()}\n",
        "# len(prediction_after_ensemble_per_test_id.keys())\n",
        "\n",
        "# submission 파일 만들기\n",
        "final_output = pd.DataFrame( \n",
        "                            # 샘플아이디 기준으로 정렬\n",
        "                            sorted(\n",
        "                                [\n",
        "                                [k, v.max(), v.argmax()] \n",
        "                                for k,v in prediction_after_ensemble_per_test_id.items()\n",
        "                                ], \n",
        "                                key=lambda x: x[0]),\n",
        "                            columns=['sample_id','buy_quantity','sell_time'] \n",
        "                            ) \n",
        "final_output"
      ],
      "execution_count": null,
      "outputs": [
        {
          "output_type": "execute_result",
          "data": {
            "text/html": [
              "<div>\n",
              "<style scoped>\n",
              "    .dataframe tbody tr th:only-of-type {\n",
              "        vertical-align: middle;\n",
              "    }\n",
              "\n",
              "    .dataframe tbody tr th {\n",
              "        vertical-align: top;\n",
              "    }\n",
              "\n",
              "    .dataframe thead th {\n",
              "        text-align: right;\n",
              "    }\n",
              "</style>\n",
              "<table border=\"1\" class=\"dataframe\">\n",
              "  <thead>\n",
              "    <tr style=\"text-align: right;\">\n",
              "      <th></th>\n",
              "      <th>sample_id</th>\n",
              "      <th>buy_quantity</th>\n",
              "      <th>sell_time</th>\n",
              "    </tr>\n",
              "  </thead>\n",
              "  <tbody>\n",
              "    <tr>\n",
              "      <th>0</th>\n",
              "      <td>0</td>\n",
              "      <td>1.860042e+00</td>\n",
              "      <td>119</td>\n",
              "    </tr>\n",
              "    <tr>\n",
              "      <th>1</th>\n",
              "      <td>1</td>\n",
              "      <td>1.224311e+00</td>\n",
              "      <td>105</td>\n",
              "    </tr>\n",
              "    <tr>\n",
              "      <th>2</th>\n",
              "      <td>2</td>\n",
              "      <td>1.531320e+07</td>\n",
              "      <td>119</td>\n",
              "    </tr>\n",
              "    <tr>\n",
              "      <th>3</th>\n",
              "      <td>3</td>\n",
              "      <td>2.716271e+00</td>\n",
              "      <td>118</td>\n",
              "    </tr>\n",
              "    <tr>\n",
              "      <th>4</th>\n",
              "      <td>4</td>\n",
              "      <td>1.277883e+00</td>\n",
              "      <td>59</td>\n",
              "    </tr>\n",
              "    <tr>\n",
              "      <th>...</th>\n",
              "      <td>...</td>\n",
              "      <td>...</td>\n",
              "      <td>...</td>\n",
              "    </tr>\n",
              "    <tr>\n",
              "      <th>524</th>\n",
              "      <td>524</td>\n",
              "      <td>6.369490e+03</td>\n",
              "      <td>119</td>\n",
              "    </tr>\n",
              "    <tr>\n",
              "      <th>525</th>\n",
              "      <td>525</td>\n",
              "      <td>6.464189e-01</td>\n",
              "      <td>0</td>\n",
              "    </tr>\n",
              "    <tr>\n",
              "      <th>526</th>\n",
              "      <td>526</td>\n",
              "      <td>1.057587e+00</td>\n",
              "      <td>13</td>\n",
              "    </tr>\n",
              "    <tr>\n",
              "      <th>527</th>\n",
              "      <td>527</td>\n",
              "      <td>3.890598e+00</td>\n",
              "      <td>119</td>\n",
              "    </tr>\n",
              "    <tr>\n",
              "      <th>528</th>\n",
              "      <td>528</td>\n",
              "      <td>1.184730e+01</td>\n",
              "      <td>117</td>\n",
              "    </tr>\n",
              "  </tbody>\n",
              "</table>\n",
              "<p>529 rows × 3 columns</p>\n",
              "</div>"
            ],
            "text/plain": [
              "     sample_id  buy_quantity  sell_time\n",
              "0            0  1.860042e+00        119\n",
              "1            1  1.224311e+00        105\n",
              "2            2  1.531320e+07        119\n",
              "3            3  2.716271e+00        118\n",
              "4            4  1.277883e+00         59\n",
              "..         ...           ...        ...\n",
              "524        524  6.369490e+03        119\n",
              "525        525  6.464189e-01          0\n",
              "526        526  1.057587e+00         13\n",
              "527        527  3.890598e+00        119\n",
              "528        528  1.184730e+01        117\n",
              "\n",
              "[529 rows x 3 columns]"
            ]
          },
          "metadata": {
            "tags": []
          },
          "execution_count": 18
        }
      ]
    },
    {
      "cell_type": "code",
      "metadata": {
        "colab": {
          "base_uri": "https://localhost:8080/"
        },
        "id": "sVKdNPTS060L",
        "outputId": "cc1e436c-be45-412e-fce8-a376ca811969"
      },
      "source": [
        "threshold = 60e+04\n",
        "# threshold = 4 # 4로 해봤는데 안좋음.. 5로 한번 해볼까?\n",
        "\n",
        "submission = final_output.copy()\n",
        "submission['buy_quantity'] = submission['buy_quantity'].apply(lambda x: 1 if x>threshold else 0)\n",
        "submission['buy_quantity'].value_counts()"
      ],
      "execution_count": null,
      "outputs": [
        {
          "output_type": "execute_result",
          "data": {
            "text/plain": [
              "0    507\n",
              "1     22\n",
              "Name: buy_quantity, dtype: int64"
            ]
          },
          "metadata": {
            "tags": []
          },
          "execution_count": 50
        }
      ]
    },
    {
      "cell_type": "code",
      "metadata": {
        "colab": {
          "base_uri": "https://localhost:8080/"
        },
        "id": "4jKTWkTeJrIU",
        "outputId": "accd12af-6557-46a5-d201-7d9b6d36f236"
      },
      "source": [
        "submission.loc[submission.buy_quantity==1,:].sell_time.value_counts()"
      ],
      "execution_count": null,
      "outputs": [
        {
          "output_type": "execute_result",
          "data": {
            "text/plain": [
              "119    22\n",
              "Name: sell_time, dtype: int64"
            ]
          },
          "metadata": {
            "tags": []
          },
          "execution_count": 51
        }
      ]
    },
    {
      "cell_type": "code",
      "metadata": {
        "colab": {
          "base_uri": "https://localhost:8080/"
        },
        "id": "KbPn_E1eKNq5",
        "outputId": "3ef4fe40-e4c5-44c8-9776-3d6a2eae946d"
      },
      "source": [
        "threshold = 6\n",
        "# threshold = 4 # 4로 해봤는데 안좋음.. 5로 한번 해볼까?\n",
        "\n",
        "submission = final_output.copy()\n",
        "submission['buy_quantity'] = submission['buy_quantity'].apply(lambda x: 1 if x>threshold else 0)\n",
        "submission['buy_quantity'].value_counts()"
      ],
      "execution_count": null,
      "outputs": [
        {
          "output_type": "execute_result",
          "data": {
            "text/plain": [
              "0    507\n",
              "1     22\n",
              "Name: buy_quantity, dtype: int64"
            ]
          },
          "metadata": {
            "tags": []
          },
          "execution_count": 105
        }
      ]
    },
    {
      "cell_type": "code",
      "metadata": {
        "colab": {
          "base_uri": "https://localhost:8080/",
          "height": 402
        },
        "id": "n5GgenwFG_9N",
        "outputId": "a2f8abbb-6448-4016-dd96-c94fa02bc27a"
      },
      "source": [
        "submission"
      ],
      "execution_count": null,
      "outputs": [
        {
          "output_type": "execute_result",
          "data": {
            "text/html": [
              "<div>\n",
              "<style scoped>\n",
              "    .dataframe tbody tr th:only-of-type {\n",
              "        vertical-align: middle;\n",
              "    }\n",
              "\n",
              "    .dataframe tbody tr th {\n",
              "        vertical-align: top;\n",
              "    }\n",
              "\n",
              "    .dataframe thead th {\n",
              "        text-align: right;\n",
              "    }\n",
              "</style>\n",
              "<table border=\"1\" class=\"dataframe\">\n",
              "  <thead>\n",
              "    <tr style=\"text-align: right;\">\n",
              "      <th></th>\n",
              "      <th>sample_id</th>\n",
              "      <th>buy_quantity</th>\n",
              "      <th>sell_time</th>\n",
              "    </tr>\n",
              "  </thead>\n",
              "  <tbody>\n",
              "    <tr>\n",
              "      <th>0</th>\n",
              "      <td>0</td>\n",
              "      <td>0</td>\n",
              "      <td>119</td>\n",
              "    </tr>\n",
              "    <tr>\n",
              "      <th>1</th>\n",
              "      <td>1</td>\n",
              "      <td>0</td>\n",
              "      <td>105</td>\n",
              "    </tr>\n",
              "    <tr>\n",
              "      <th>2</th>\n",
              "      <td>2</td>\n",
              "      <td>1</td>\n",
              "      <td>119</td>\n",
              "    </tr>\n",
              "    <tr>\n",
              "      <th>3</th>\n",
              "      <td>3</td>\n",
              "      <td>0</td>\n",
              "      <td>118</td>\n",
              "    </tr>\n",
              "    <tr>\n",
              "      <th>4</th>\n",
              "      <td>4</td>\n",
              "      <td>0</td>\n",
              "      <td>59</td>\n",
              "    </tr>\n",
              "    <tr>\n",
              "      <th>...</th>\n",
              "      <td>...</td>\n",
              "      <td>...</td>\n",
              "      <td>...</td>\n",
              "    </tr>\n",
              "    <tr>\n",
              "      <th>524</th>\n",
              "      <td>524</td>\n",
              "      <td>0</td>\n",
              "      <td>119</td>\n",
              "    </tr>\n",
              "    <tr>\n",
              "      <th>525</th>\n",
              "      <td>525</td>\n",
              "      <td>0</td>\n",
              "      <td>0</td>\n",
              "    </tr>\n",
              "    <tr>\n",
              "      <th>526</th>\n",
              "      <td>526</td>\n",
              "      <td>0</td>\n",
              "      <td>13</td>\n",
              "    </tr>\n",
              "    <tr>\n",
              "      <th>527</th>\n",
              "      <td>527</td>\n",
              "      <td>0</td>\n",
              "      <td>119</td>\n",
              "    </tr>\n",
              "    <tr>\n",
              "      <th>528</th>\n",
              "      <td>528</td>\n",
              "      <td>0</td>\n",
              "      <td>117</td>\n",
              "    </tr>\n",
              "  </tbody>\n",
              "</table>\n",
              "<p>529 rows × 3 columns</p>\n",
              "</div>"
            ],
            "text/plain": [
              "     sample_id  buy_quantity  sell_time\n",
              "0            0             0        119\n",
              "1            1             0        105\n",
              "2            2             1        119\n",
              "3            3             0        118\n",
              "4            4             0         59\n",
              "..         ...           ...        ...\n",
              "524        524             0        119\n",
              "525        525             0          0\n",
              "526        526             0         13\n",
              "527        527             0        119\n",
              "528        528             0        117\n",
              "\n",
              "[529 rows x 3 columns]"
            ]
          },
          "metadata": {
            "tags": []
          },
          "execution_count": 32
        }
      ]
    },
    {
      "cell_type": "code",
      "metadata": {
        "id": "MKZZ2BxDMPKC"
      },
      "source": [
        "# submission 파일 생성\n",
        "from datetime import datetime\n",
        "today_date = datetime.today().strftime(\"%m-%d\")\n",
        "\n",
        "import os \n",
        "lag_order = model_fitted.k_ar\n",
        "\n",
        "\n",
        "folder_path = f\"{today_date}_coinindex별_각각_모든샘플_앙상블_threshold_{threshold}_1380개train_x만_사용\"\n",
        "if not os.path.isdir(f\"./submission_VAR/{folder_path}\"):\n",
        "    os.makedirs(f\"./submission_VAR/{folder_path}\")\n",
        "\n",
        "submission_path = f\"./submission_VAR/{folder_path}/{folder_path}_submission\"\n",
        "\n",
        "submission.to_csv(f'{submission_path}.csv',index=False)"
      ],
      "execution_count": null,
      "outputs": []
    },
    {
      "cell_type": "markdown",
      "metadata": {
        "id": "9TbAMme9BAyb"
      },
      "source": [
        "# .Conclusion\n",
        "In this article we covered VAR from scratch beginning from the intuition behind it, interpreting the formula, causality tests, finding the optimal order of the VAR model, preparing the data for forecasting, build the model, checking for serial autocorrelation, inverting the transform to get the actual forecasts, plotting the results and computing the accuracy metrics.\n",
        "\n",
        "Hope you enjoyed reading this as much as I did writing it. I will see you in the next one.\n",
        "\n"
      ]
    },
    {
      "cell_type": "code",
      "metadata": {
        "id": "-f319kWWA9Y0"
      },
      "source": [
        "best_submission = pd.read_csv(\".//submission_VAR/03-27_coinindex별_각각10앙상블_threshold_6_1380개train_x만_사용/03-27_coinindex별_각각10앙상블_threshold_6_1380개train_x만_사용_submission.csv\")"
      ],
      "execution_count": null,
      "outputs": []
    },
    {
      "cell_type": "code",
      "metadata": {
        "colab": {
          "base_uri": "https://localhost:8080/"
        },
        "id": "U_0eBaLMLqUj",
        "outputId": "6fc96ac5-df5f-48cf-9ad2-482831b17acd"
      },
      "source": [
        "best_submission.loc[best_submission.buy_quantity==1,:].sell_time.value_counts()"
      ],
      "execution_count": null,
      "outputs": [
        {
          "output_type": "execute_result",
          "data": {
            "text/plain": [
              "119    3\n",
              "117    3\n",
              "116    3\n",
              "115    2\n",
              "114    2\n",
              "108    2\n",
              "78     1\n",
              "118    1\n",
              "112    1\n",
              "110    1\n",
              "104    1\n",
              "103    1\n",
              "96     1\n",
              "Name: sell_time, dtype: int64"
            ]
          },
          "metadata": {
            "tags": []
          },
          "execution_count": 55
        }
      ]
    },
    {
      "cell_type": "code",
      "metadata": {
        "colab": {
          "base_uri": "https://localhost:8080/"
        },
        "id": "pbs2k_0WLuN4",
        "outputId": "c269d2fa-0a0a-45bc-deaa-d86d0972fa4c"
      },
      "source": [
        "best_submission_time = 96\n",
        "a = set(best_submission.loc[best_submission.buy_quantity==1,:].loc[best_submission.sell_time==best_submission_time,:].sample_id.value_counts().index)\n",
        "b = set(submission.loc[submission.buy_quantity==1,:].loc[submission.sell_time==119,:].sample_id.value_counts().index)\n",
        "a&b"
      ],
      "execution_count": null,
      "outputs": [
        {
          "output_type": "execute_result",
          "data": {
            "text/plain": [
              "set()"
            ]
          },
          "metadata": {
            "tags": []
          },
          "execution_count": 76
        }
      ]
    },
    {
      "cell_type": "code",
      "metadata": {
        "id": "Z48mYUuRL_PJ"
      },
      "source": [
        ""
      ],
      "execution_count": null,
      "outputs": []
    }
  ]
}